{
 "metadata": {
  "name": "010-Multiple_comparison"
 },
 "nbformat": 3,
 "nbformat_minor": 0,
 "worksheets": [
  {
   "cells": [
    {
     "cell_type": "heading",
     "level": 1,
     "metadata": {},
     "source": [
      "Multiple comparisons"
     ]
    },
    {
     "cell_type": "code",
     "collapsed": false,
     "input": [
      "# first set up inline plotting\n",
      "%pylab inline "
     ],
     "language": "python",
     "metadata": {},
     "outputs": [
      {
       "output_type": "stream",
       "stream": "stdout",
       "text": [
        "\n",
        "Welcome to pylab, a matplotlib-based Python environment [backend: module://IPython.kernel.zmq.pylab.backend_inline].\n",
        "For more information, type 'help(pylab)'.\n"
       ]
      }
     ],
     "prompt_number": 1
    },
    {
     "cell_type": "markdown",
     "metadata": {},
     "source": [
      "The problem occurs when you permform several statistical tests: by chance, some will be significant even if the data has been generated under the null hypothesis.\n"
     ]
    },
    {
     "cell_type": "heading",
     "level": 2,
     "metadata": {},
     "source": [
      "FWER : Bonferroni"
     ]
    },
    {
     "cell_type": "markdown",
     "metadata": {},
     "source": [
      "Imaging you are doing $n$ t tests each one with a risk of type one error of $\\alpha$, and we denote by $t_\\alpha$ the t-value such that for a variable t drawn from a Student distribution, we have $P(t < t_\\alpha) = \\alpha$,   the probability of getting at least one significant test is these n tests is : "
     ]
    },
    {
     "cell_type": "markdown",
     "metadata": {},
     "source": [
      "$$\n",
      "\\alpha_{F} = P(\\textrm{ one or more } t_i > t_\\alpha) = 1 - \\prod_{i} P(t_i < t_\\alpha) = 1 - (1 - \\alpha)^n \n",
      "$$ \n",
      "\n",
      "$$\n",
      "\\alpha = 1 -(1 - \\alpha_{F})^{\\frac{1}{n}} = 1 - \\exp\\left(\\frac{1}{n} \\log(1 - \\alpha_{F})\\right)\n",
      "$$\n"
     ]
    },
    {
     "cell_type": "code",
     "collapsed": false,
     "input": [
      "# code demo: a t-distribution\n",
      "from scipy.stats import t as tdist\n",
      "df = 14\n",
      "n = 100\n",
      "alph = .05\n",
      "\n",
      "# Often easier to compute the static distribution of t with df : t14 = tdist(df)\n",
      "# rvs : draw one or several random variables\n",
      "ts = tdist(df).rvs(size=n)\n",
      "\n",
      "# The threshold as a t value: \n",
      "t_alph = tdist.isf(alph,df)\n",
      "print t_alph\n",
      "print \"Nubmer of test significant at the %f level: %d \" %(alph, sum(ts >= t_alph))"
     ],
     "language": "python",
     "metadata": {},
     "outputs": [
      {
       "output_type": "stream",
       "stream": "stdout",
       "text": [
        "1.76131013577\n",
        "Nubmer of test significant at the 0.050000 level: 4 \n"
       ]
      }
     ],
     "prompt_number": 6
    },
    {
     "cell_type": "markdown",
     "metadata": {},
     "source": [
      "To correct for the number of tests with the Bonferroni correction :"
     ]
    },
    {
     "cell_type": "code",
     "collapsed": false,
     "input": [
      "# if we have p values : \n",
      "p = tdist(df).sf(ts)\n",
      "p_corr = (1 - (1 - p)**n)\n",
      "print \"Number of test significant with uncorrected threshold: %d, corrected: %d \" \\\n",
      "            % (sum(p <= alph), sum(p_corr <= alph))\n",
      "\n",
      "# This can be put in a little function:\n",
      "def p_corrected(ps):\n",
      "    return( 1 - (1 - p)**n )\n",
      "\n",
      "# alternatively : compare orginal p with : 1.0 - exp(1./n * log(1 - .05))\n",
      "\n",
      "def alph_corr(alph,n):\n",
      "    return 1.0 - exp(1./n * log(1 - alph))\n",
      "\n",
      "print \"Uncorrected threshold: %f, corrected threshold: %f\" % (alph, alph_corr(alph,n))"
     ],
     "language": "python",
     "metadata": {},
     "outputs": [
      {
       "output_type": "stream",
       "stream": "stdout",
       "text": [
        "Number of test significant with uncorrected threshold: 4, corrected: 0 \n",
        "Uncorrected threshold: 0.050000, corrected threshold: 0.000513\n"
       ]
      }
     ],
     "prompt_number": 7
    },
    {
     "cell_type": "markdown",
     "metadata": {},
     "source": [
      "On average we would have to run about 20 times the previous code to get a (spurious) significant effect.\n",
      "\n",
      "Note that when the tests are NOT INDEPENDENT, then this procedure is conservative (on average you will get less false positive than the specified risk or error), and therefore not the most sensitive. "
     ]
    },
    {
     "cell_type": "heading",
     "level": 2,
     "metadata": {},
     "source": [
      "False Discovery Rate "
     ]
    },
    {
     "cell_type": "markdown",
     "metadata": {},
     "source": [
      "The false detection rate (introduced by Benjamini and Hochberg (1995), see [http://en.wikipedia.org/wiki/False_discovery_rate] for an history of this measure."
     ]
    },
    {
     "cell_type": "markdown",
     "metadata": {},
     "source": [
      "Let's denote : \n",
      "\n",
      "* $S$ the number of true positive\n",
      "* $V$ the number of false positives (Type I error)\n",
      "* $R$ is the number of rejected null hypotheses (also called \"discoveries\")\n",
      "* $Q$ the proportion of false discoveries amongst the discoveries = $\\frac{V}{S+V}$\n",
      "\n",
      "We want to control such that $Q = \\frac{V}{S+V} = \\frac{V}{R}$ is small. \n",
      "\n",
      "The false discovery rate is the expectation of the false discovery proportion $\\textrm{FDR} = E(Q)$."
     ]
    },
    {
     "cell_type": "markdown",
     "metadata": {},
     "source": [
      "The procedure : step by step.\n",
      "\n",
      "First, we order the p-values by increasing order. We start to test the smallest p-value (the highest t or z), and declare the test significant if its p-value is less than $\\alpha/n$, for instance $0.05/n$. If this test is significant, we test the following pOur new threshold to declare significance is $\\alpha * 2 /n)$. This is iterated, until a test is not significant. "
     ]
    },
    {
     "cell_type": "markdown",
     "metadata": {},
     "source": [
      "$$\n",
      "T_{BH} = \\textrm{max} \\left \\{ { P_{(i)} : P_{(i)} < \\frac{\\alpha i }{n} } \\right  \\}\n",
      "$$"
     ]
    },
    {
     "cell_type": "markdown",
     "metadata": {},
     "source": [
      "An intuition : $i  \\frac{\\alpha}{n} $ is the expected value if I draw $i$ times in a bernouilli distribution of probability $ \\frac{\\alpha}{n} $ "
     ]
    },
    {
     "cell_type": "markdown",
     "metadata": {},
     "source": [
      "Let's implement this and compare to Bonferroni or uncorrected thresolds:"
     ]
    },
    {
     "cell_type": "code",
     "collapsed": false,
     "input": [
      "import scipy.stats as st\n",
      "norm01 = st.norm(0,1)"
     ],
     "language": "python",
     "metadata": {},
     "outputs": [],
     "prompt_number": 8
    },
    {
     "cell_type": "code",
     "collapsed": false,
     "input": [
      "# adapted from nipy/algorithms/statistics/empirical_pvalue\n",
      "#q = ( (range(n)+1)/n) * 0.05 ) \n",
      "\n",
      "def fdr(p_values=None, verbose=0):\n",
      "    \"\"\"Returns the FDR associated with each p value\n",
      "\n",
      "    Parameters\n",
      "    -----------\n",
      "    p_values : ndarray of shape (n)\n",
      "        The samples p-value\n",
      "\n",
      "    Returns\n",
      "    -------\n",
      "    q : array of shape(n)\n",
      "        The corresponding fdr values\n",
      "    \"\"\"\n",
      "    #p_values = check_p_values(p_values)\n",
      "    n_samples = p_values.size\n",
      "    order = p_values.argsort()\n",
      "    sp_values = p_values[order]\n",
      "\n",
      "    # compute q while in ascending order\n",
      "    q = np.minimum(1, n_samples * sp_values / np.arange(1, n_samples + 1))\n",
      "    for i in range(n_samples - 1, 0, - 1):\n",
      "        q[i - 1] = min(q[i], q[i - 1])\n",
      "\n",
      "    # reorder the results\n",
      "    inverse_order = np.arange(n_samples)\n",
      "    inverse_order[order] = np.arange(n_samples)\n",
      "    q = q[inverse_order]\n",
      "\n",
      "    if verbose:\n",
      "        import matplotlib.pylab as mp\n",
      "        mp.figure()\n",
      "        mp.xlabel('Input p-value')\n",
      "        mp.plot(p_values, q, '.')\n",
      "        mp.ylabel('Associated fdr')\n",
      "    return q\n",
      "\n",
      "\n",
      "def fdr_threshold(p_values, alpha=0.05):\n",
      "    \"\"\"Return FDR threshold given p values\n",
      "\n",
      "    Parameters\n",
      "    -----------\n",
      "    p_values : array of shape (n), optional\n",
      "        The samples p-value\n",
      "    alpha : float, optional\n",
      "        The desired FDR significance\n",
      "\n",
      "    Returns\n",
      "    -------\n",
      "    critical_p_value: float\n",
      "        The p value corresponding to the FDR alpha\n",
      "    \"\"\"\n",
      "    n_samples = np.size(p_values)\n",
      "    sp_values = np.sort(p_values)\n",
      "    p_corr = alpha / n_samples\n",
      "    i = np.arange(1, n_samples + 1) # i from 1 to n_sample\n",
      "    critical_set = sp_values[sp_values < p_corr * i]\n",
      "    if len(critical_set) > 0:\n",
      "        critical_p_value = critical_set.max()\n",
      "    else:\n",
      "        critical_p_value = p_corr\n",
      "    return critical_p_value\n"
     ],
     "language": "python",
     "metadata": {},
     "outputs": [],
     "prompt_number": 9
    },
    {
     "cell_type": "code",
     "collapsed": false,
     "input": [
      "n = 1000\n",
      "unif = st.uniform()\n",
      "p = unif.rvs(size=n)\n",
      "\n",
      "q = []\n",
      "alph = arange(0.01,0.1,0.01)\n",
      "for a in alph:\n",
      "    q.append(fdr_threshold(p,a))\n",
      "\n",
      "    \n",
      "#more elegant: \n",
      "q = [fdr_threshold(p,a) for a in alph]\n",
      "    \n",
      "print size(alph), size(q)   \n",
      "plot(alph, q,'--')"
     ],
     "language": "python",
     "metadata": {},
     "outputs": [
      {
       "output_type": "stream",
       "stream": "stdout",
       "text": [
        "9 9\n"
       ]
      },
      {
       "output_type": "pyout",
       "prompt_number": 10,
       "text": [
        "[<matplotlib.lines.Line2D at 0x3b30a10>]"
       ]
      },
      {
       "output_type": "display_data",
       "png": "[encoded data removed]",
       "text": [
        "<matplotlib.figure.Figure at 0x39c8890>"
       ]
      }
     ],
     "prompt_number": 10
    },
    {
     "cell_type": "code",
     "collapsed": false,
     "input": [
      "n = 1000\n",
      "z = norm01.rvs(size=n)\n",
      "p = norm01.sf(z)\n",
      "\n",
      "print fdr_threshold(p)\n",
      "print sum(p < fdr_threshold(p))\n",
      "\n",
      "q = fdr(p, verbose=1)\n",
      "\n",
      "if len(z) <= 20:\n",
      "    order = z.argsort()    \n",
      "    print \"z \\n\", z \n",
      "    print \"p \\n\", p \n",
      "    print \"q \\n\", q\n",
      "    print \"sorted z \\n\", z[order]\n",
      "    print \"sorted fdr \\n\", q[order]\n",
      "\n"
     ],
     "language": "python",
     "metadata": {},
     "outputs": [
      {
       "output_type": "stream",
       "stream": "stdout",
       "text": [
        "5e-05\n",
        "0\n"
       ]
      },
      {
       "output_type": "display_data",
       "png": "[encoded data removed]",
       "text": [
        "<matplotlib.figure.Figure at 0x39f47d0>"
       ]
      }
     ],
     "prompt_number": 11
    },
    {
     "cell_type": "code",
     "collapsed": false,
     "input": [
      "alph = 0.05\n",
      "df = 14\n",
      "t14 = tdist(df)\n",
      "n = 1000\n",
      "ts = t14.rvs(size=n)\n",
      "# ts = np.sort(ts)           # careful of ts = ts.sort() .... you get None !!!\n",
      "ps = t14.sf(ts)\n",
      "\n",
      "#uncorrected :\n",
      "print  'Uncorrected: ',sum(ps < alph)\n",
      "\n",
      "#Bonferroni : \n",
      "print 'Bonferroni: ',sum(ps < alph_corr(alph,n))\n",
      "\n",
      "#FDR : (suppose z)\n",
      "fdr_alph = fdr_threshold(ps)\n",
      "print 'FDR: ',sum(ps < fdr_alph)"
     ],
     "language": "python",
     "metadata": {},
     "outputs": [
      {
       "output_type": "stream",
       "stream": "stdout",
       "text": [
        "Uncorrected:  55\n",
        "Bonferroni:  0\n",
        "FDR:  0\n"
       ]
      }
     ],
     "prompt_number": 13
    },
    {
     "cell_type": "code",
     "collapsed": false,
     "input": [
      "# Adding signal :\n",
      "z = st.norm.rvs(0,1, size=1000)\n",
      "print sum(z>1.5)\n",
      "z = z[z>1.]+ 2\n",
      "\n",
      "alph, df, n = 0.05, 14, 100\n",
      "t14 = tdist(df)\n",
      "ts = t14.rvs(size=n)\n",
      "# add some signal : \n",
      "print \"number of true positive: \", sum(ts > 1.5)\n",
      "ts[ts > 1.5] += 1.5\n",
      "ps = t14.sf(ts)\n",
      "\n",
      "#uncorrected :\n",
      "print  'Uncorrected: ',alph, sum(ps < alph)\n",
      "#Bonferroni : \n",
      "print 'Bonferroni: ', alph_corr(alph,n), sum(ps < alph_corr(alph,n))\n",
      "#FDR :\n",
      "fdr_alph = fdr_threshold(ps)\n",
      "q = fdr(ps, verbose=1)\n",
      "print 'FDR: ',fdr_alph, sum(ps < fdr_alph), sum(q <= alph)\n"
     ],
     "language": "python",
     "metadata": {},
     "outputs": [
      {
       "output_type": "stream",
       "stream": "stdout",
       "text": [
        "60\n",
        "number of true positive:  11\n",
        "Uncorrected:  0.05 11\n",
        "Bonferroni:  0.000512801416262 0\n",
        "FDR: "
       ]
      },
      {
       "output_type": "stream",
       "stream": "stdout",
       "text": [
        " 0.00473460436807 10 11\n"
       ]
      },
      {
       "output_type": "display_data",
       "png": "[encoded data removed]",
       "text": [
        "<matplotlib.figure.Figure at 0x3d9cc10>"
       ]
      }
     ],
     "prompt_number": 15
    },
    {
     "cell_type": "heading",
     "level": 2,
     "metadata": {},
     "source": [
      "Permutations : a quick introduction"
     ]
    },
    {
     "cell_type": "markdown",
     "metadata": {},
     "source": [
      "The principle of the permutation is simple: we construct a distribution of the statistics we are interested in under the assumption that there is no signal. For instance, let's take the one sample t-test scenario."
     ]
    },
    {
     "cell_type": "code",
     "collapsed": false,
     "input": [
      "#N subjects, z[i] = effects observed for subject i.\n",
      "\n",
      "N = 15\n",
      "mu, sigma = 0.75, 1.0\n",
      "normH1 = st.norm(mu, sigma)\n",
      "z = normH1.rvs(size=N) # a series of z values under H1\n",
      "\n",
      "print z"
     ],
     "language": "python",
     "metadata": {},
     "outputs": [
      {
       "output_type": "stream",
       "stream": "stdout",
       "text": [
        "[-0.21557732  1.08753659  0.81284445  0.65051999 -0.48500761  0.71379641\n",
        " -0.93627376  0.91966905  1.44485769  0.79344869 -0.59309978  0.13385896\n",
        "  1.3633538   0.06926551  0.28891933]\n"
       ]
      }
     ],
     "prompt_number": 16
    },
    {
     "cell_type": "markdown",
     "metadata": {},
     "source": [
      "The idea here is the following: if the z are drawn from a normal distribution of mean zero, then there there is as much chance to get a negative value than a positive values (the distribution is symmetric). We can therefore arbitrarily swap the sign of our values and construct the distribution of their mean under this hypothesis. "
     ]
    },
    {
     "cell_type": "code",
     "collapsed": false,
     "input": [
      "psign = np.random.randint(2, size=len(z))\n",
      "psign[psign==0] = -1\n",
      "print psign\n",
      "print z * psign"
     ],
     "language": "python",
     "metadata": {},
     "outputs": [
      {
       "output_type": "stream",
       "stream": "stdout",
       "text": [
        "[ 1  1 -1  1  1 -1 -1 -1 -1 -1  1  1 -1 -1  1]\n",
        "[-0.21557732  1.08753659 -0.81284445  0.65051999 -0.48500761 -0.71379641\n",
        "  0.93627376 -0.91966905 -1.44485769 -0.79344869 -0.59309978  0.13385896\n",
        " -1.3633538  -0.06926551  0.28891933]\n"
       ]
      }
     ],
     "prompt_number": 17
    },
    {
     "cell_type": "code",
     "collapsed": false,
     "input": [
      "def distrib_under_H0(x, stat, nperm = 1000):\n",
      "    dist = []\n",
      "    for i in xrange(nperm):\n",
      "        psign = np.random.randint(2, size=len(x))\n",
      "        psign[psign==0] = -1\n",
      "        dist.append(stat(x * psign))\n",
      "    return dist\n",
      "\n",
      "def my_stat(x):\n",
      "    return(mean(x))\n"
     ],
     "language": "python",
     "metadata": {},
     "outputs": [],
     "prompt_number": 19
    },
    {
     "cell_type": "code",
     "collapsed": false,
     "input": [
      "d_H0 = distrib_under_H0(z, my_stat)"
     ],
     "language": "python",
     "metadata": {},
     "outputs": [],
     "prompt_number": 20
    },
    {
     "cell_type": "code",
     "collapsed": false,
     "input": [
      "size(d_H0)\n",
      "hist(d_H0)\n",
      "mean(z)\n",
      "empirical_p = float( sum(d_H0 > my_stat(z)))/size(d_H0)\n",
      "print my_stat(z), empirical_p"
     ],
     "language": "python",
     "metadata": {},
     "outputs": [
      {
       "output_type": "stream",
       "stream": "stdout",
       "text": [
        "0.40320746564 0.028\n"
       ]
      },
      {
       "output_type": "display_data",
       "png": "[encoded data removed]",
       "text": [
        "<matplotlib.figure.Figure at 0x3da6250>"
       ]
      }
     ],
     "prompt_number": 23
    },
    {
     "cell_type": "markdown",
     "metadata": {},
     "source": [
      "In this instance, we have a significant p value at the 5 percent risk of error because under the null hypothesis, the actual data statistics is observed less than 5 percent of the times. This framework is \n",
      "\n",
      "* powerful : any statistics can be tested\n",
      "* tricky \n",
      "    - non exangeable data  \n",
      "    - what exactly is the null hypothesis tested\n",
      "* demanding in computing time : make sure we can get a good estimation of the probability"
     ]
    },
    {
     "cell_type": "heading",
     "level": 3,
     "metadata": {},
     "source": [
      "How do we deal with multiple comparison using permutations ?"
     ]
    },
    {
     "cell_type": "markdown",
     "metadata": {},
     "source": [
      "We simply take the distribution of the maximum statistics across tests !\n",
      "\n",
      "An example ?"
     ]
    },
    {
     "cell_type": "heading",
     "level": 2,
     "metadata": {},
     "source": [
      "FWER : RFT"
     ]
    },
    {
     "cell_type": "code",
     "collapsed": false,
     "input": [],
     "language": "python",
     "metadata": {},
     "outputs": [],
     "prompt_number": 14
    }
   ],
   "metadata": {}
  }
 ]
}