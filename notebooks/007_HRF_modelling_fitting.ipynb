{
 "metadata": {
  "name": "007_HRF_modelling_fitting"
 },
 "nbformat": 3,
 "nbformat_minor": 0,
 "worksheets": [
  {
   "cells": [
    {
     "cell_type": "heading",
     "level": 1,
     "metadata": {},
     "source": [
      "HRF Modelling and Fitting - AR(1) noise"
     ]
    },
    {
     "cell_type": "heading",
     "level": 2,
     "metadata": {},
     "source": [
      "GLM for non white noise: a quick reminder"
     ]
    },
    {
     "cell_type": "markdown",
     "metadata": {},
     "source": [
      "Our standard model for uncorrelated noise is \n",
      "\n",
      "$ Y = X \\beta + \\epsilon$,  with  $\\epsilon \\sim N(0,\\sigma^2 I_n)$\n",
      "\n",
      "with the standard OLS solution for estimating $\\beta$ \n",
      "\n",
      "$$\\hat\\beta = (X^T X )^{-1} X^T Y   $$"
     ]
    },
    {
     "cell_type": "markdown",
     "metadata": {},
     "source": [
      "If $\\epsilon$ is not independantly distributed, say  $\\epsilon \\sim N(0,V)$, then the OLS solution although unbiased is not the one which gives us the minimal variance for our $\\hat\\beta$. It can be shown that the \"best\" solution is to first whiten the data.\n",
      "\n",
      "This is done by finding a matrix $Q$ such that $Q^{-1} V Q^{-1 t} = I_{n,n}$  \n",
      "\n",
      "If the covariance $V$ is well behaved, (positive definite), there's always a non singular matrix $Q$ st $V = Q Q^t$"
     ]
    },
    {
     "cell_type": "markdown",
     "metadata": {},
     "source": [
      "The model can then be re-written : \n",
      "$$\n",
      "Q^{-1} Y = Q^{-1} X\\beta + Q^{-1} \\epsilon\n",
      "$$\n",
      "\n",
      "For this model, the noise is uncorrelated, we can apply the previous theory and the estimated parameters would be:\n",
      "\n",
      "$ \\hat\\beta =  (X^T Q^{-1 t} Q^{-1 }X )^{+} X^T Q^{-1 t}Q^{-1 } Y =   (X^T V^{-1 } X )^{+} X^T V^{-1 } Y $ \n",
      "\n",
      "In other words, we should \n",
      "\n",
      "* find a matrix $Q$  \n",
      "* whiten the data $Y$ and the model $X$\n",
      "* Apply the OLS solution to the new data and new model\n",
      "\n",
      "This is what neuroimaging packages do.  "
     ]
    },
    {
     "cell_type": "heading",
     "level": 3,
     "metadata": {},
     "source": [
      "What is $V$ in our case?"
     ]
    },
    {
     "cell_type": "markdown",
     "metadata": {},
     "source": [
      "In general, the BOLD data noise can be well modeled by an autoregressive model, that states $r(t) = \\rho r(t-1) + \\xi$ "
     ]
    },
    {
     "cell_type": "markdown",
     "metadata": {},
     "source": [
      "This leads to a specific covariance matrix form, and there are good algorithms to whiten the data in this case."
     ]
    },
    {
     "cell_type": "code",
     "collapsed": false,
     "input": [
      "# here : generate AR(1), estimate the coefficient, whiten the data."
     ],
     "language": "python",
     "metadata": {},
     "outputs": [],
     "prompt_number": 35
    },
    {
     "cell_type": "heading",
     "level": 2,
     "metadata": {},
     "source": [
      "Neural signal and convolution with the Hemodynamic Response Function"
     ]
    },
    {
     "cell_type": "code",
     "collapsed": false,
     "input": [
      "# Neural signals : assumed known in shape, we control for when they occur\n",
      "event_times = (12., 16.5, 45) \n",
      "nevts = len(event_times)\n",
      "fig, axes = subplots(nevts, 1) \n",
      "time_max = 100 # in seconds\n",
      "dt = .1\n",
      "time = np.arange(0,time_max, dt)\n",
      "\n",
      "neuronal = []\n",
      "for i in arange(nevts):\n",
      "    event_signal = np.zeros_like(time)\n",
      "    event_signal[int(event_times[i]/dt)] = 1\n",
      "    neuronal.append(event_signal)\n",
      "    axes[i].plot(time,event_signal)\n",
      "    "
     ],
     "language": "python",
     "metadata": {},
     "outputs": [
      {
       "output_type": "display_data",
       "png": "[encoded data removed]",
       "text": [
        "<matplotlib.figure.Figure at 0x2875150>"
       ]
      }
     ],
     "prompt_number": 1
    },
    {
     "cell_type": "markdown",
     "metadata": {},
     "source": [
      "If we believe that the events dont interact : "
     ]
    },
    {
     "cell_type": "code",
     "collapsed": false,
     "input": [
      "plot(time, np.sum(np.vstack(neuronal),axis=0))"
     ],
     "language": "python",
     "metadata": {},
     "outputs": [
      {
       "output_type": "pyout",
       "prompt_number": 2,
       "text": [
        "[<matplotlib.lines.Line2D at 0x2e4c4d0>]"
       ]
      },
      {
       "output_type": "display_data",
       "png": "[encoded data removed]",
       "text": [
        "<matplotlib.figure.Figure at 0x2a32290>"
       ]
      }
     ],
     "prompt_number": 2
    },
    {
     "cell_type": "code",
     "collapsed": false,
     "input": [
      "# Assumed HRF : \n",
      "from nipy.modalities.fmri import hrf \n",
      "\n",
      "hrf_time = np.arange(0,30,dt)\n",
      "\n",
      "plot(hrf_time, hrf.glovert(hrf_time))\n",
      "plot(hrf_time, hrf.dglovert(hrf_time))\n"
     ],
     "language": "python",
     "metadata": {},
     "outputs": [
      {
       "output_type": "pyout",
       "prompt_number": 3,
       "text": [
        "[<matplotlib.lines.Line2D at 0x46e58d0>]"
       ]
      },
      {
       "output_type": "display_data",
       "png": "[encoded data removed]",
       "text": [
        "<matplotlib.figure.Figure at 0x45e9890>"
       ]
      }
     ],
     "prompt_number": 3
    },
    {
     "cell_type": "code",
     "collapsed": false,
     "input": [
      "diff_hrf = np.diff(hrf.glovert(hrf_time))\n",
      "plot(diff_hrf, hrf.dglovert(hrf_time[:-1]),'.')"
     ],
     "language": "python",
     "metadata": {},
     "outputs": [
      {
       "output_type": "pyout",
       "prompt_number": 4,
       "text": [
        "[<matplotlib.lines.Line2D at 0x490dc10>]"
       ]
      },
      {
       "output_type": "display_data",
       "png": "[encoded data removed]",
       "text": [
        "<matplotlib.figure.Figure at 0x45d2f10>"
       ]
      }
     ],
     "prompt_number": 4
    },
    {
     "cell_type": "heading",
     "level": 3,
     "metadata": {},
     "source": [
      "Adding - subtracting the temporal derivative gives us an approximation of a time shift"
     ]
    },
    {
     "cell_type": "code",
     "collapsed": false,
     "input": [
      "hrf_glover = hrf.glovert(hrf_time)\n",
      "dhrf_glover = hrf.dglovert(hrf_time)\n",
      "plot(hrf_time, hrf_glover)\n",
      "plot(hrf_time, dhrf_glover + hrf_glover)\n",
      "plot(hrf_time, -dhrf_glover + hrf_glover)\n"
     ],
     "language": "python",
     "metadata": {},
     "outputs": [
      {
       "output_type": "pyout",
       "prompt_number": 5,
       "text": [
        "[<matplotlib.lines.Line2D at 0x4937e90>]"
       ]
      },
      {
       "output_type": "display_data",
       "png": "[encoded data removed]",
       "text": [
        "<matplotlib.figure.Figure at 0x46a3690>"
       ]
      }
     ],
     "prompt_number": 5
    },
    {
     "cell_type": "code",
     "collapsed": false,
     "input": [
      "# Convolution and subsampling\n",
      "fig, axes = subplots(nevts, 1) \n",
      "# allow for the extension due to the convolution\n",
      "time_with_hrf = np.hstack((time,hrf_time[0:-1] + time_max))\n",
      "\n",
      "hemodynamic = []\n",
      "for i in arange(nevts):\n",
      "    event_signal = neuronal[i]\n",
      "    hemodynamic_signal = np.convolve(hrf.glovert(hrf_time),event_signal,mode='full')\n",
      "    # if mode = 'valid' then the length of the result is the lenght of the longer array\n",
      "    print len(hemodynamic_signal)\n",
      "\n",
      "    axes[i].plot(time_with_hrf, hemodynamic_signal) \n",
      "    hemodynamic.append(hemodynamic_signal)\n",
      "    "
     ],
     "language": "python",
     "metadata": {},
     "outputs": [
      {
       "output_type": "stream",
       "stream": "stdout",
       "text": [
        "1299\n",
        "1299\n",
        "1299\n"
       ]
      },
      {
       "output_type": "display_data",
       "png": "[encoded data removed]",
       "text": [
        "<matplotlib.figure.Figure at 0x49164d0>"
       ]
      }
     ],
     "prompt_number": 6
    },
    {
     "cell_type": "markdown",
     "metadata": {},
     "source": [
      "If we think that the brain hemodynamic is a linear system: "
     ]
    },
    {
     "cell_type": "code",
     "collapsed": false,
     "input": [
      "plot(time_with_hrf, np.sum(np.vstack(hemodynamic),axis=0))"
     ],
     "language": "python",
     "metadata": {},
     "outputs": [
      {
       "output_type": "pyout",
       "prompt_number": 7,
       "text": [
        "[<matplotlib.lines.Line2D at 0x2a00a90>]"
       ]
      },
      {
       "output_type": "display_data",
       "png": "[encoded data removed]",
       "text": [
        "<matplotlib.figure.Figure at 0x49241d0>"
       ]
      }
     ],
     "prompt_number": 7
    },
    {
     "cell_type": "heading",
     "level": 2,
     "metadata": {},
     "source": [
      "Example with nipy"
     ]
    },
    {
     "cell_type": "code",
     "collapsed": false,
     "input": [
      "import nibabel as nib\n",
      "from os.path import join as pjoin\n",
      "\n",
      "subid = \"001\"\n",
      "event_file = \"ds107/sub001/model/model001/onsets/task001_run001/cond001.txt\"\n",
      "run_file = pjoin('ds107','sub' + subid, 'BOLD','task001_run001','swabold.nii')\n",
      "\n",
      "cond_events = np.genfromtxt(event_file)\n",
      "onsets = cond_events[:,0]"
     ],
     "language": "python",
     "metadata": {},
     "outputs": [],
     "prompt_number": 8
    },
    {
     "cell_type": "code",
     "collapsed": false,
     "input": [
      "cond_events\n"
     ],
     "language": "python",
     "metadata": {},
     "outputs": [
      {
       "output_type": "pyout",
       "prompt_number": 9,
       "text": [
        "array([[  0.00000000e+00,   3.50000000e-01,   1.00000000e+00],\n",
        "       [  1.00000000e+00,   3.50000000e-01,   1.00000000e+00],\n",
        "       [  2.00000000e+00,   3.50000000e-01,   1.00000000e+00],\n",
        "       [  3.10000000e+00,   3.50000000e-01,   1.00000000e+00],\n",
        "       [  4.10000000e+00,   3.50000000e-01,   1.00000000e+00],\n",
        "       [  5.10000000e+00,   3.50000000e-01,   1.00000000e+00],\n",
        "       [  6.10000000e+00,   3.50000000e-01,   1.00000000e+00],\n",
        "       [  7.10000000e+00,   3.50000000e-01,   1.00000000e+00],\n",
        "       [  8.20000000e+00,   3.50000000e-01,   1.00000000e+00],\n",
        "       [  9.20000000e+00,   3.50000000e-01,   1.00000000e+00],\n",
        "       [  1.02000000e+01,   3.50000000e-01,   1.00000000e+00],\n",
        "       [  1.12000000e+01,   3.50000000e-01,   1.00000000e+00],\n",
        "       [  1.22000000e+01,   3.50000000e-01,   1.00000000e+00],\n",
        "       [  1.33000000e+01,   3.50000000e-01,   1.00000000e+00],\n",
        "       [  1.43000000e+01,   3.50000000e-01,   1.00000000e+00],\n",
        "       [  1.53000000e+01,   3.50000000e-01,   1.00000000e+00],\n",
        "       [  9.74000000e+01,   3.50000000e-01,   1.00000000e+00],\n",
        "       [  9.84000000e+01,   3.50000000e-01,   1.00000000e+00],\n",
        "       [  9.94000000e+01,   3.50000000e-01,   1.00000000e+00],\n",
        "       [  1.00500000e+02,   3.50000000e-01,   1.00000000e+00],\n",
        "       [  1.01500000e+02,   3.50000000e-01,   1.00000000e+00],\n",
        "       [  1.02500000e+02,   3.50000000e-01,   1.00000000e+00],\n",
        "       [  1.03500000e+02,   3.50000000e-01,   1.00000000e+00],\n",
        "       [  1.04500000e+02,   3.50000000e-01,   1.00000000e+00],\n",
        "       [  1.05600000e+02,   3.50000000e-01,   1.00000000e+00],\n",
        "       [  1.06600000e+02,   3.50000000e-01,   1.00000000e+00],\n",
        "       [  1.07600000e+02,   3.50000000e-01,   1.00000000e+00],\n",
        "       [  1.08600000e+02,   3.50000000e-01,   1.00000000e+00],\n",
        "       [  1.09600000e+02,   3.50000000e-01,   1.00000000e+00],\n",
        "       [  1.10700000e+02,   3.50000000e-01,   1.00000000e+00],\n",
        "       [  1.11700000e+02,   3.50000000e-01,   1.00000000e+00],\n",
        "       [  1.12700000e+02,   3.50000000e-01,   1.00000000e+00],\n",
        "       [  2.11200000e+02,   3.50000000e-01,   1.00000000e+00],\n",
        "       [  2.12200000e+02,   3.50000000e-01,   1.00000000e+00],\n",
        "       [  2.13200000e+02,   3.50000000e-01,   1.00000000e+00],\n",
        "       [  2.14300000e+02,   3.50000000e-01,   1.00000000e+00],\n",
        "       [  2.15300000e+02,   3.50000000e-01,   1.00000000e+00],\n",
        "       [  2.16300000e+02,   3.50000000e-01,   1.00000000e+00],\n",
        "       [  2.17300000e+02,   3.50000000e-01,   1.00000000e+00],\n",
        "       [  2.18300000e+02,   3.50000000e-01,   1.00000000e+00],\n",
        "       [  2.19400000e+02,   3.50000000e-01,   1.00000000e+00],\n",
        "       [  2.20400000e+02,   3.50000000e-01,   1.00000000e+00],\n",
        "       [  2.21400000e+02,   3.50000000e-01,   1.00000000e+00],\n",
        "       [  2.22400000e+02,   3.50000000e-01,   1.00000000e+00],\n",
        "       [  2.23400000e+02,   3.50000000e-01,   1.00000000e+00],\n",
        "       [  2.24500000e+02,   3.50000000e-01,   1.00000000e+00],\n",
        "       [  2.25500000e+02,   3.50000000e-01,   1.00000000e+00],\n",
        "       [  2.26500000e+02,   3.50000000e-01,   1.00000000e+00],\n",
        "       [  2.75900000e+02,   3.50000000e-01,   1.00000000e+00],\n",
        "       [  2.76900000e+02,   3.50000000e-01,   1.00000000e+00],\n",
        "       [  2.77900000e+02,   3.50000000e-01,   1.00000000e+00],\n",
        "       [  2.78900000e+02,   3.50000000e-01,   1.00000000e+00],\n",
        "       [  2.79900000e+02,   3.50000000e-01,   1.00000000e+00],\n",
        "       [  2.81000000e+02,   3.50000000e-01,   1.00000000e+00],\n",
        "       [  2.82000000e+02,   3.50000000e-01,   1.00000000e+00],\n",
        "       [  2.83000000e+02,   3.50000000e-01,   1.00000000e+00],\n",
        "       [  2.84000000e+02,   3.50000000e-01,   1.00000000e+00],\n",
        "       [  2.85000000e+02,   3.50000000e-01,   1.00000000e+00],\n",
        "       [  2.86100000e+02,   3.50000000e-01,   1.00000000e+00],\n",
        "       [  2.87100000e+02,   3.50000000e-01,   1.00000000e+00],\n",
        "       [  2.88100000e+02,   3.50000000e-01,   1.00000000e+00],\n",
        "       [  2.89100000e+02,   3.50000000e-01,   1.00000000e+00],\n",
        "       [  2.90100000e+02,   3.50000000e-01,   1.00000000e+00],\n",
        "       [  2.91100000e+02,   3.50000000e-01,   1.00000000e+00],\n",
        "       [  3.24000000e+02,   3.50000000e-01,   1.00000000e+00],\n",
        "       [  3.25000000e+02,   3.50000000e-01,   1.00000000e+00],\n",
        "       [  3.26000000e+02,   3.50000000e-01,   1.00000000e+00],\n",
        "       [  3.27000000e+02,   3.50000000e-01,   1.00000000e+00],\n",
        "       [  3.28000000e+02,   3.50000000e-01,   1.00000000e+00],\n",
        "       [  3.29100000e+02,   3.50000000e-01,   1.00000000e+00],\n",
        "       [  3.30100000e+02,   3.50000000e-01,   1.00000000e+00],\n",
        "       [  3.31100000e+02,   3.50000000e-01,   1.00000000e+00],\n",
        "       [  3.32100000e+02,   3.50000000e-01,   1.00000000e+00],\n",
        "       [  3.33100000e+02,   3.50000000e-01,   1.00000000e+00],\n",
        "       [  3.34200000e+02,   3.50000000e-01,   1.00000000e+00],\n",
        "       [  3.35200000e+02,   3.50000000e-01,   1.00000000e+00],\n",
        "       [  3.36200000e+02,   3.50000000e-01,   1.00000000e+00],\n",
        "       [  3.37200000e+02,   3.50000000e-01,   1.00000000e+00],\n",
        "       [  3.38200000e+02,   3.50000000e-01,   1.00000000e+00],\n",
        "       [  3.39200000e+02,   3.50000000e-01,   1.00000000e+00],\n",
        "       [  4.21500000e+02,   3.50000000e-01,   1.00000000e+00],\n",
        "       [  4.22600000e+02,   3.50000000e-01,   1.00000000e+00],\n",
        "       [  4.23600000e+02,   3.50000000e-01,   1.00000000e+00],\n",
        "       [  4.24600000e+02,   3.50000000e-01,   1.00000000e+00],\n",
        "       [  4.25600000e+02,   3.50000000e-01,   1.00000000e+00],\n",
        "       [  4.26600000e+02,   3.50000000e-01,   1.00000000e+00],\n",
        "       [  4.27700000e+02,   3.50000000e-01,   1.00000000e+00],\n",
        "       [  4.28700000e+02,   3.50000000e-01,   1.00000000e+00],\n",
        "       [  4.29700000e+02,   3.50000000e-01,   1.00000000e+00],\n",
        "       [  4.30700000e+02,   3.50000000e-01,   1.00000000e+00],\n",
        "       [  4.31700000e+02,   3.50000000e-01,   1.00000000e+00],\n",
        "       [  4.32800000e+02,   3.50000000e-01,   1.00000000e+00],\n",
        "       [  4.33800000e+02,   3.50000000e-01,   1.00000000e+00],\n",
        "       [  4.34800000e+02,   3.50000000e-01,   1.00000000e+00],\n",
        "       [  4.35800000e+02,   3.50000000e-01,   1.00000000e+00],\n",
        "       [  4.36800000e+02,   3.50000000e-01,   1.00000000e+00]])"
       ]
      }
     ],
     "prompt_number": 9
    },
    {
     "cell_type": "code",
     "collapsed": false,
     "input": [
      "run_img = nib.load(run_file)\n",
      "hdr =  run_img.get_header()\n",
      "nscans = hdr['dim'][4]\n",
      "# \n",
      "print nscans"
     ],
     "language": "python",
     "metadata": {},
     "outputs": [
      {
       "output_type": "stream",
       "stream": "stdout",
       "text": [
        "164\n"
       ]
      }
     ],
     "prompt_number": 10
    },
    {
     "cell_type": "code",
     "collapsed": false,
     "input": [
      "# better to do this :\n",
      "run_img.shape"
     ],
     "language": "python",
     "metadata": {},
     "outputs": [
      {
       "output_type": "pyout",
       "prompt_number": 11,
       "text": [
        "(79, 95, 69, 164)"
       ]
      }
     ],
     "prompt_number": 11
    },
    {
     "cell_type": "code",
     "collapsed": false,
     "input": [
      "print onsets"
     ],
     "language": "python",
     "metadata": {},
     "outputs": [
      {
       "output_type": "stream",
       "stream": "stdout",
       "text": [
        "[   0.     1.     2.     3.1    4.1    5.1    6.1    7.1    8.2    9.2\n",
        "   10.2   11.2   12.2   13.3   14.3   15.3   97.4   98.4   99.4  100.5\n",
        "  101.5  102.5  103.5  104.5  105.6  106.6  107.6  108.6  109.6  110.7\n",
        "  111.7  112.7  211.2  212.2  213.2  214.3  215.3  216.3  217.3  218.3\n",
        "  219.4  220.4  221.4  222.4  223.4  224.5  225.5  226.5  275.9  276.9\n",
        "  277.9  278.9  279.9  281.   282.   283.   284.   285.   286.1  287.1\n",
        "  288.1  289.1  290.1  291.1  324.   325.   326.   327.   328.   329.1\n",
        "  330.1  331.1  332.1  333.1  334.2  335.2  336.2  337.2  338.2  339.2\n",
        "  421.5  422.6  423.6  424.6  425.6  426.6  427.7  428.7  429.7  430.7\n",
        "  431.7  432.8  433.8  434.8  435.8  436.8]\n"
       ]
      }
     ],
     "prompt_number": 12
    },
    {
     "cell_type": "code",
     "collapsed": false,
     "input": [
      "from nipy.modalities.fmri.design_matrix import make_dmtx\n",
      "from nipy.modalities.fmri.experimental_paradigm import EventRelatedParadigm\n"
     ],
     "language": "python",
     "metadata": {},
     "outputs": [],
     "prompt_number": 13
    },
    {
     "cell_type": "code",
     "collapsed": false,
     "input": [
      "tr = 3.0\n",
      "frametimes = np.linspace(0, (nscans - 1) * tr, nscans)\n",
      "\n",
      "# experimental paradigm\n",
      "conditions = ['c0']*len(onsets)\n",
      "\n",
      "#hrf_model = 'canonical'\n",
      "hrf_model = 'canonical with derivative'\n",
      "drift_model = \"cosine\"\n",
      "motion = np.cumsum(np.random.randn(nscans, 6), 0)\n",
      "add_reg_names = ['tx', 'ty', 'tz', 'rx', 'ry', 'rz']\n"
     ],
     "language": "python",
     "metadata": {},
     "outputs": [],
     "prompt_number": 49
    },
    {
     "cell_type": "code",
     "collapsed": false,
     "input": [
      "print conditions, onsets"
     ],
     "language": "python",
     "metadata": {},
     "outputs": [
      {
       "output_type": "stream",
       "stream": "stdout",
       "text": [
        "['c0', 'c0', 'c0', 'c0', 'c0', 'c0', 'c0', 'c0', 'c0', 'c0', 'c0', 'c0', 'c0', 'c0', 'c0', 'c0', 'c0', 'c0', 'c0', 'c0', 'c0', 'c0', 'c0', 'c0', 'c0', 'c0', 'c0', 'c0', 'c0', 'c0', 'c0', 'c0', 'c0', 'c0', 'c0', 'c0', 'c0', 'c0', 'c0', 'c0', 'c0', 'c0', 'c0', 'c0', 'c0', 'c0', 'c0', 'c0', 'c0', 'c0', 'c0', 'c0', 'c0', 'c0', 'c0', 'c0', 'c0', 'c0', 'c0', 'c0', 'c0', 'c0', 'c0', 'c0', 'c0', 'c0', 'c0', 'c0', 'c0', 'c0', 'c0', 'c0', 'c0', 'c0', 'c0', 'c0', 'c0', 'c0', 'c0', 'c0', 'c0', 'c0', 'c0', 'c0', 'c0', 'c0', 'c0', 'c0', 'c0', 'c0', 'c0', 'c0', 'c0', 'c0', 'c0', 'c0'] [   0.     1.     2.     3.1    4.1    5.1    6.1    7.1    8.2    9.2\n",
        "   10.2   11.2   12.2   13.3   14.3   15.3   97.4   98.4   99.4  100.5\n",
        "  101.5  102.5  103.5  104.5  105.6  106.6  107.6  108.6  109.6  110.7\n",
        "  111.7  112.7  211.2  212.2  213.2  214.3  215.3  216.3  217.3  218.3\n",
        "  219.4  220.4  221.4  222.4  223.4  224.5  225.5  226.5  275.9  276.9\n",
        "  277.9  278.9  279.9  281.   282.   283.   284.   285.   286.1  287.1\n",
        "  288.1  289.1  290.1  291.1  324.   325.   326.   327.   328.   329.1\n",
        "  330.1  331.1  332.1  333.1  334.2  335.2  336.2  337.2  338.2  339.2\n",
        "  421.5  422.6  423.6  424.6  425.6  426.6  427.7  428.7  429.7  430.7\n",
        "  431.7  432.8  433.8  434.8  435.8  436.8]\n"
       ]
      }
     ],
     "prompt_number": 50
    },
    {
     "cell_type": "code",
     "collapsed": false,
     "input": [
      "#event-related design matrix\n",
      "paradigm = EventRelatedParadigm(conditions, onsets)\n",
      "\n",
      "X1 = make_dmtx( frametimes, paradigm, hrf_model=hrf_model,\n",
      "        drift_model=drift_model, drift_order=3,\n",
      "        add_regs=motion, add_reg_names=add_reg_names)\n"
     ],
     "language": "python",
     "metadata": {},
     "outputs": [],
     "prompt_number": 52
    },
    {
     "cell_type": "code",
     "collapsed": false,
     "input": [
      "print paradigm.n_conditions"
     ],
     "language": "python",
     "metadata": {},
     "outputs": [
      {
       "output_type": "stream",
       "stream": "stdout",
       "text": [
        "1\n"
       ]
      }
     ],
     "prompt_number": 53
    },
    {
     "cell_type": "code",
     "collapsed": false,
     "input": [
      "fig = plt.figure(figsize=(2,5))\n",
      "imshow( X1.matrix, interpolation='nearest', aspect=\"auto\")\n",
      "print np.max(X1.matrix, axis=0) - np.min(X1.matrix, axis=0), "
     ],
     "language": "python",
     "metadata": {},
     "outputs": [
      {
       "output_type": "stream",
       "stream": "stdout",
       "text": [
        "[  0.29183915   0.48954554  19.85388955  15.03104504  17.8979617\n",
        "  25.56698446  22.61636325  25.94724607   0.12790003   0.12789416\n",
        "   0.12789995   0.1278943    0.12789995   0.12789444   0.12789995   0.        ]\n"
       ]
      },
      {
       "output_type": "display_data",
       "png": "[encoded data removed]",
       "text": [
        "<matplotlib.figure.Figure at 0x56b1c90>"
       ]
      }
     ],
     "prompt_number": 54
    },
    {
     "cell_type": "code",
     "collapsed": false,
     "input": [
      "plot(X1.matrix[:,0])\n",
      "plot(X1.matrix[:,1])\n",
      "X1.names"
     ],
     "language": "python",
     "metadata": {},
     "outputs": [
      {
       "output_type": "pyout",
       "prompt_number": 55,
       "text": [
        "['c0',\n",
        " 'c0_derivative',\n",
        " 'tx',\n",
        " 'ty',\n",
        " 'tz',\n",
        " 'rx',\n",
        " 'ry',\n",
        " 'rz',\n",
        " 'drift_1',\n",
        " 'drift_2',\n",
        " 'drift_3',\n",
        " 'drift_4',\n",
        " 'drift_5',\n",
        " 'drift_6',\n",
        " 'drift_7',\n",
        " 'constant']"
       ]
      },
      {
       "output_type": "display_data",
       "png": "[encoded data removed]",
       "text": [
        "<matplotlib.figure.Figure at 0x5a7b510>"
       ]
      }
     ],
     "prompt_number": 55
    },
    {
     "cell_type": "code",
     "collapsed": false,
     "input": [
      "#data_path = path.join(DATA_DIR, 's12069_swaloc1_corr.nii.gz')\n",
      "run_file"
     ],
     "language": "python",
     "metadata": {},
     "outputs": [
      {
       "output_type": "pyout",
       "prompt_number": 39,
       "text": [
        "'ds107/sub001/BOLD/task001_run001/swabold.nii'"
       ]
      }
     ],
     "prompt_number": 39
    },
    {
     "cell_type": "heading",
     "level": 3,
     "metadata": {},
     "source": [
      "Run the GLM"
     ]
    },
    {
     "cell_type": "code",
     "collapsed": false,
     "input": [
      "from nipy.modalities.fmri.glm import FMRILinearModel\n",
      "\n",
      "print('Fitting a GLM (this takes time)...')\n",
      "\n",
      "fmri_glm = FMRILinearModel(run_file, X1.matrix, mask='compute')\n",
      "fmri_glm.fit(do_scaling=True, model='ar1')\n"
     ],
     "language": "python",
     "metadata": {},
     "outputs": [
      {
       "output_type": "stream",
       "stream": "stdout",
       "text": [
        "Fitting a GLM (this takes time)...\n"
       ]
      }
     ],
     "prompt_number": 45
    },
    {
     "cell_type": "heading",
     "level": 3,
     "metadata": {},
     "source": [
      "Specify the contrast(s)"
     ]
    },
    {
     "cell_type": "code",
     "collapsed": false,
     "input": [
      "# simplest ones\n",
      "n_HRF = 1 # for canonical- 2 for canonical plus derivative.\n",
      "\n",
      "contrasts = {}\n",
      "n_columns = len(X1.names)\n",
      "for i in range(paradigm.n_conditions):\n",
      "    contrasts['%s' % X1.names[n_HRF * i]] = np.eye(n_columns)[n_HRF * i]\n",
      "\n",
      "print contrasts\n"
     ],
     "language": "python",
     "metadata": {},
     "outputs": [
      {
       "output_type": "stream",
       "stream": "stdout",
       "text": [
        "{'c0': array([ 1.,  0.,  0.,  0.,  0.,  0.,  0.,  0.,  0.,  0.,  0.,  0.,  0.,\n",
        "        0.,  0.])}\n"
       ]
      }
     ],
     "prompt_number": 46
    },
    {
     "cell_type": "heading",
     "level": 3,
     "metadata": {},
     "source": [
      "Compute the contrast, and Z map"
     ]
    },
    {
     "cell_type": "code",
     "collapsed": false,
     "input": [
      "contrast_val = contrasts['c0']\n",
      "contrast_id = contrasts.keys()[0]\n",
      "z_map, = fmri_glm.contrast(contrast_val, con_id=contrast_id, output_z=True)"
     ],
     "language": "python",
     "metadata": {},
     "outputs": [],
     "prompt_number": 47
    },
    {
     "cell_type": "code",
     "collapsed": false,
     "input": [
      "type(z_map)"
     ],
     "language": "python",
     "metadata": {},
     "outputs": [
      {
       "output_type": "pyout",
       "prompt_number": 48,
       "text": [
        "nibabel.nifti1.Nifti1Image"
       ]
      }
     ],
     "prompt_number": 48
    },
    {
     "cell_type": "code",
     "collapsed": false,
     "input": [
      "# plot the result using plt.imshow  "
     ],
     "language": "python",
     "metadata": {},
     "outputs": []
    },
    {
     "cell_type": "code",
     "collapsed": false,
     "input": [
      "import nipy.algorithms.diagnostics.tsdiffplot as tsplt\n"
     ],
     "language": "python",
     "metadata": {},
     "outputs": [],
     "prompt_number": 56
    },
    {
     "cell_type": "code",
     "collapsed": false,
     "input": [
      "tsplt.plot_tsdiffs??\n"
     ],
     "language": "python",
     "metadata": {},
     "outputs": [],
     "prompt_number": 57
    },
    {
     "cell_type": "code",
     "collapsed": false,
     "input": [],
     "language": "python",
     "metadata": {},
     "outputs": []
    }
   ],
   "metadata": {}
  }
 ]
}