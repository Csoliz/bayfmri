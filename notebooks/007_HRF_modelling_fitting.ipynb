{
 "metadata": {
  "name": "007_HRF_modelling_fitting"
 },
 "nbformat": 3,
 "nbformat_minor": 0,
 "worksheets": [
  {
   "cells": [
    {
     "cell_type": "heading",
     "level": 1,
     "metadata": {},
     "source": [
      "HRF Modelling and Fitting - AR(1) noise"
     ]
    },
    {
     "cell_type": "heading",
     "level": 2,
     "metadata": {},
     "source": [
      "GLM for non white noise: a quick reminder"
     ]
    },
    {
     "cell_type": "markdown",
     "metadata": {},
     "source": [
      "Our standard model for uncorrelated noise is \n",
      "\n",
      "$ Y = X \\beta + \\epsilon$,  with  $\\epsilon \\sim N(0,\\sigma^2 I_n)$\n",
      "\n",
      "with the standard OLS solution for estimating $\\beta$ \n",
      "\n",
      "$$\\hat\\beta = (X^T X )^{-1} X^T Y   $$"
     ]
    },
    {
     "cell_type": "markdown",
     "metadata": {},
     "source": [
      "If $\\epsilon$ is not independantly distributed, say  $\\epsilon \\sim N(0,V)$, then the OLS solution although unbiased is not the one which gives us the minimal variance for our $\\hat\\beta$. It can be shown that the \"best\" solution is to first whiten the data.\n",
      "\n",
      "This is done by finding a matrix $Q$ such that $Q^{-1} V Q^{-1 t} = I_{n,n}$  \n",
      "\n",
      "If the covariance $V$ is well behaved, (positive definite), there's always a non singular matrix $Q$ st $V = Q Q^t$. "
     ]
    },
    {
     "cell_type": "markdown",
     "metadata": {},
     "source": [
      "The model can then be re-written : \n",
      "$$\n",
      "Q^{-1} Y = Q^{-1} X + Q^{-1} \\epsilon\n",
      "$$\n",
      "\n",
      "For this model, the noise is uncorrelated, we can apply the previous theory and the estimated parameters would be:\n",
      "\n",
      "$ \\hat\\beta =  (X^T Q^{-1 t} Q^{-1 }X )^{+} X^T Q^{-1 t}Q^{-1 } Y =   (X^T V^{-1 } X )^{+} X^T V^{-1 } Y $ \n",
      "\n",
      "In other words, we should \n",
      "\n",
      "* find a matrix $Q$  \n",
      "* whiten the data $Y$ and the model $X$\n",
      "* Apply the OLS solution to the new data and new model\n",
      "\n",
      "This is what neuroimaging packages do.  "
     ]
    },
    {
     "cell_type": "heading",
     "level": 3,
     "metadata": {},
     "source": [
      "What is $V$ in our case?"
     ]
    },
    {
     "cell_type": "markdown",
     "metadata": {},
     "source": [
      "In general, the BOLD data noise can be well modeled by an autoregressive model, that states $r(t) = \\rho r(t-1) + \\xi$ "
     ]
    },
    {
     "cell_type": "markdown",
     "metadata": {},
     "source": [
      "This leads to a specific covariance matrix form, and there are good algorithms to whiten the data in this case."
     ]
    },
    {
     "cell_type": "code",
     "collapsed": false,
     "input": [
      "# here : generate AR(1), estimate the coefficient, whiten the data."
     ],
     "language": "python",
     "metadata": {},
     "outputs": []
    },
    {
     "cell_type": "heading",
     "level": 2,
     "metadata": {},
     "source": [
      "Neural signal and convolution with the Hemodynamic Response Function"
     ]
    },
    {
     "cell_type": "code",
     "collapsed": false,
     "input": [
      "# Neural signals : assumed known in shape, we control for when they occur"
     ],
     "language": "python",
     "metadata": {},
     "outputs": []
    },
    {
     "cell_type": "code",
     "collapsed": false,
     "input": [
      "# Assumed HRF : "
     ],
     "language": "python",
     "metadata": {},
     "outputs": []
    },
    {
     "cell_type": "code",
     "collapsed": false,
     "input": [
      "# Convolution and subsampling"
     ],
     "language": "python",
     "metadata": {},
     "outputs": []
    },
    {
     "cell_type": "heading",
     "level": 2,
     "metadata": {},
     "source": [
      "Example with nipy"
     ]
    },
    {
     "cell_type": "code",
     "collapsed": false,
     "input": [],
     "language": "python",
     "metadata": {},
     "outputs": []
    }
   ],
   "metadata": {}
  }
 ]
}