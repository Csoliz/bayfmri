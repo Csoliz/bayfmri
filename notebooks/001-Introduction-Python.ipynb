{
 "metadata": {
  "name": "001-Introduction-Python"
 },
 "nbformat": 3,
 "nbformat_minor": 0,
 "worksheets": [
  {
   "cells": [
    {
     "cell_type": "markdown",
     "metadata": {},
     "source": [
      "- Explain import - explain reload()\n",
      "- What's the deal with indentation\n",
      "- What's the deal with the `.`\n",
      "- Explain lookfor\n",
      "- Explain `?` and `??`\n",
      "- Pylab \n",
      "- Example: count words in a file.\n",
      "- Read the paradigm file and plot it and what-not\n",
      "- Where do I get help?\n"
     ]
    },
    {
     "cell_type": "code",
     "collapsed": false,
     "input": [],
     "language": "python",
     "metadata": {},
     "outputs": []
    }
   ],
   "metadata": {}
  }
 ]
}