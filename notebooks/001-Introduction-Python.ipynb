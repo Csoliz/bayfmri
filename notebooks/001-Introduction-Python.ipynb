{
 "metadata": {
  "name": "001-Introduction-Python"
 },
 "nbformat": 3,
 "nbformat_minor": 0,
 "worksheets": [
  {
   "cells": [
    {
     "cell_type": "markdown",
     "metadata": {},
     "source": [
      "# Introduction to the interactive notebook\n",
      "\n",
      "The platform for this workshop will be files such as this one, which interleave explanation text, code and data visualizations. \n",
      "\n",
      "To execute each cell of the notebook, hit *`shift-enter`*. "
     ]
    },
    {
     "cell_type": "markdown",
     "metadata": {},
     "source": [
      "That will put you in the next cell. There are two types of input cells, controlled by the menu bar at the top of this page. One type are cells like this one, called \"markdown cells\". They are called that, because they contain a simple, minimalistic form of markup as input to the browser, which then  renders these cells in a useful way. You can find a pretty good markdown cheat-sheet [here](https://github.com/adam-p/markdown-here/wiki/Markdown-Cheatsheet). See - for example - that was a hyper-link to a web page! "
     ]
    },
    {
     "cell_type": "markdown",
     "metadata": {},
     "source": [
      "These cells can also be used to write math-y stuff, using [$\\LaTeX$](http://www.latex-project.org/). To write math that will be rendered in this way, we simply enter a piece of syntactically correct latex between two `$` signs. Like so: $f(x) = \\frac{1}{\\sigma\\sqrt{2\\pi}} e^{\\frac{(x-\\mu)^2}{2\\sigma^2}}$"
     ]
    },
    {
     "cell_type": "markdown",
     "metadata": {},
     "source": [
      "Another type of input cell in the notebook is a code cell. These cells contain code and when they are executed, this piece of code is sent to the python interpter. For example: "
     ]
    },
    {
     "cell_type": "code",
     "collapsed": false,
     "input": [
      "a = 1\n",
      "print a"
     ],
     "language": "python",
     "metadata": {},
     "outputs": [
      {
       "output_type": "stream",
       "stream": "stdout",
       "text": [
        "1\n"
       ]
      }
     ],
     "prompt_number": 1
    },
    {
     "cell_type": "markdown",
     "metadata": {},
     "source": [
      "# A whirlwind introduction to Python\n",
      "\n",
      "## Python is object-oriented \n",
      "\n",
      "In contrast to some other commonly used scripting languages (notably Matlab), Python is an object-oriented language. That means that everything is an object. [And there's a big difference between having an `object` data-type and having *almost everything* be an object].\n",
      "\n",
      "For example, if you type `a.` and hit the `tab` key, you will see all the attributes of this object: \n"
     ]
    },
    {
     "cell_type": "code",
     "collapsed": false,
     "input": [
      "print a.real\n",
      "print a.imag"
     ],
     "language": "python",
     "metadata": {},
     "outputs": [
      {
       "output_type": "stream",
       "stream": "stdout",
       "text": [
        "1\n",
        "0\n"
       ]
      }
     ],
     "prompt_number": 2
    },
    {
     "cell_type": "markdown",
     "metadata": {},
     "source": [
      "So far, that looks a lot like the matlab `struct` array. However, an important difference is that some of these attributes can be functions that can be called on/from the object. These are also referred to as 'methods' of the object. For example: "
     ]
    },
    {
     "cell_type": "code",
     "collapsed": false,
     "input": [
      "print a.bit_length"
     ],
     "language": "python",
     "metadata": {},
     "outputs": [
      {
       "output_type": "stream",
       "stream": "stdout",
       "text": [
        "<built-in method bit_length of int object at 0x100310338>\n"
       ]
      }
     ],
     "prompt_number": 3
    },
    {
     "cell_type": "markdown",
     "metadata": {},
     "source": [
      "To tell what this method does, we can get ipython to give us a brief description of this function. This is done by attaching a `?` after it:"
     ]
    },
    {
     "cell_type": "code",
     "collapsed": false,
     "input": [
      "a.bit_length?"
     ],
     "language": "python",
     "metadata": {},
     "outputs": [],
     "prompt_number": 4
    },
    {
     "cell_type": "markdown",
     "metadata": {},
     "source": [
      "This should open a sub-window at the bottom of this window with the 'docstring' of this method. If the author of the function was kind enough to provide useful information in the docstring, we can use this information to know what this method does and what are its expected inputs. This function has no inputs, so to call it, we simply provide the method with empty parentheses:"
     ]
    },
    {
     "cell_type": "code",
     "collapsed": false,
     "input": [
      "a.bit_length()"
     ],
     "language": "python",
     "metadata": {},
     "outputs": [
      {
       "output_type": "pyout",
       "prompt_number": 5,
       "text": [
        "1"
       ]
      }
     ],
     "prompt_number": 5
    },
    {
     "cell_type": "markdown",
     "metadata": {},
     "source": [
      "There is a lot more to say about objects and object-orientation (and what it is good for). For now, this will suffice."
     ]
    },
    {
     "cell_type": "markdown",
     "metadata": {},
     "source": [
      "## Python uses a few simple data structures\n",
      "\n",
      "Some of them look deceivingly like structures in other languages. For example, here's a 'list':  "
     ]
    },
    {
     "cell_type": "code",
     "collapsed": false,
     "input": [
      "b = [1,2,3,4]\n",
      "print len(b)"
     ],
     "language": "python",
     "metadata": {},
     "outputs": [
      {
       "output_type": "stream",
       "stream": "stdout",
       "text": [
        "4\n"
       ]
      }
     ],
     "prompt_number": 6
    },
    {
     "cell_type": "markdown",
     "metadata": {},
     "source": [
      "Here's a classic gotcha. Python indexes start at 0:"
     ]
    },
    {
     "cell_type": "code",
     "collapsed": false,
     "input": [
      "print(b[0])"
     ],
     "language": "python",
     "metadata": {},
     "outputs": [
      {
       "output_type": "stream",
       "stream": "stdout",
       "text": [
        "1\n"
       ]
      }
     ],
     "prompt_number": 7
    },
    {
     "cell_type": "markdown",
     "metadata": {},
     "source": [
      "Lists can be changed: "
     ]
    },
    {
     "cell_type": "code",
     "collapsed": false,
     "input": [
      "b[0] = 2\n",
      "print b"
     ],
     "language": "python",
     "metadata": {},
     "outputs": [
      {
       "output_type": "stream",
       "stream": "stdout",
       "text": [
        "[2, 2, 3, 4]\n"
       ]
      }
     ],
     "prompt_number": 8
    },
    {
     "cell_type": "markdown",
     "metadata": {},
     "source": [
      "They have a ton of interesting attributes and methods. Feel free to explore them as you just learned above. Importantly, though they look a lot like a Matlab vector, they are not the Python analogue of that. Wait just a few more cells for that one to show up. "
     ]
    },
    {
     "cell_type": "code",
     "collapsed": false,
     "input": [
      "print b * 2"
     ],
     "language": "python",
     "metadata": {},
     "outputs": [
      {
       "output_type": "stream",
       "stream": "stdout",
       "text": [
        "[2, 2, 3, 4, 2, 2, 3, 4]\n"
       ]
      }
     ],
     "prompt_number": 9
    },
    {
     "cell_type": "code",
     "collapsed": false,
     "input": [
      "print b+1"
     ],
     "language": "python",
     "metadata": {},
     "outputs": [
      {
       "ename": "TypeError",
       "evalue": "can only concatenate list (not \"int\") to list",
       "output_type": "pyerr",
       "traceback": [
        "\u001b[0;31m---------------------------------------------------------------------------\u001b[0m\n\u001b[0;31mTypeError\u001b[0m                                 Traceback (most recent call last)",
        "\u001b[0;32m<ipython-input-10-5bd19596e089>\u001b[0m in \u001b[0;36m<module>\u001b[0;34m()\u001b[0m\n\u001b[0;32m----> 1\u001b[0;31m \u001b[0;32mprint\u001b[0m \u001b[0mb\u001b[0m\u001b[0;34m+\u001b[0m\u001b[0;36m1\u001b[0m\u001b[0;34m\u001b[0m\u001b[0m\n\u001b[0m",
        "\u001b[0;31mTypeError\u001b[0m: can only concatenate list (not \"int\") to list"
       ]
      }
     ],
     "prompt_number": 10
    },
    {
     "cell_type": "code",
     "collapsed": false,
     "input": [
      "print b + b "
     ],
     "language": "python",
     "metadata": {},
     "outputs": [
      {
       "output_type": "stream",
       "stream": "stdout",
       "text": [
        "[2, 2, 3, 4, 2, 2, 3, 4]\n"
       ]
      }
     ],
     "prompt_number": 11
    },
    {
     "cell_type": "markdown",
     "metadata": {},
     "source": [
      "Let's look at one useful class method and notice some interesting (and possibly surprising) behaviors:"
     ]
    },
    {
     "cell_type": "code",
     "collapsed": false,
     "input": [
      "new_b = b.append(5)"
     ],
     "language": "python",
     "metadata": {},
     "outputs": [],
     "prompt_number": 12
    },
    {
     "cell_type": "markdown",
     "metadata": {},
     "source": [
      "What do you expect `new_b` to look like?"
     ]
    },
    {
     "cell_type": "code",
     "collapsed": false,
     "input": [
      "print new_b"
     ],
     "language": "python",
     "metadata": {},
     "outputs": [
      {
       "output_type": "stream",
       "stream": "stdout",
       "text": [
        "None\n"
       ]
      }
     ],
     "prompt_number": 13
    },
    {
     "cell_type": "markdown",
     "metadata": {},
     "source": [
      "This is because the `append` method has no output. It changes the object on which it is called and doesn't return anything. We'll see more about what that means when we examine functions below. In the meanwhile, here's what `b` not looks like: \n"
     ]
    },
    {
     "cell_type": "code",
     "collapsed": false,
     "input": [
      "print b"
     ],
     "language": "python",
     "metadata": {},
     "outputs": [
      {
       "output_type": "stream",
       "stream": "stdout",
       "text": [
        "[2, 2, 3, 4, 5]\n"
       ]
      }
     ],
     "prompt_number": 14
    },
    {
     "cell_type": "markdown",
     "metadata": {},
     "source": [
      "'tuples' are very similar to lists: "
     ]
    },
    {
     "cell_type": "code",
     "collapsed": false,
     "input": [
      "c = (1,2,3,4)\n",
      "print c[0]"
     ],
     "language": "python",
     "metadata": {},
     "outputs": [
      {
       "output_type": "stream",
       "stream": "stdout",
       "text": [
        "1\n"
       ]
      }
     ],
     "prompt_number": 15
    },
    {
     "cell_type": "markdown",
     "metadata": {},
     "source": [
      "In contrast to lists, they are immutable: "
     ]
    },
    {
     "cell_type": "code",
     "collapsed": false,
     "input": [
      "c[0] = 2"
     ],
     "language": "python",
     "metadata": {},
     "outputs": [
      {
       "ename": "TypeError",
       "evalue": "'tuple' object does not support item assignment",
       "output_type": "pyerr",
       "traceback": [
        "\u001b[0;31m---------------------------------------------------------------------------\u001b[0m\n\u001b[0;31mTypeError\u001b[0m                                 Traceback (most recent call last)",
        "\u001b[0;32m<ipython-input-16-5673658116c7>\u001b[0m in \u001b[0;36m<module>\u001b[0;34m()\u001b[0m\n\u001b[0;32m----> 1\u001b[0;31m \u001b[0mc\u001b[0m\u001b[0;34m[\u001b[0m\u001b[0;36m0\u001b[0m\u001b[0;34m]\u001b[0m \u001b[0;34m=\u001b[0m \u001b[0;36m2\u001b[0m\u001b[0;34m\u001b[0m\u001b[0m\n\u001b[0m",
        "\u001b[0;31mTypeError\u001b[0m: 'tuple' object does not support item assignment"
       ]
      }
     ],
     "prompt_number": 16
    },
    {
     "cell_type": "markdown",
     "metadata": {},
     "source": [
      "And they are also not analogous to Matlab vectors: "
     ]
    },
    {
     "cell_type": "code",
     "collapsed": false,
     "input": [
      "print c + c"
     ],
     "language": "python",
     "metadata": {},
     "outputs": [
      {
       "output_type": "stream",
       "stream": "stdout",
       "text": [
        "(1, 2, 3, 4, 1, 2, 3, 4)\n"
       ]
      }
     ],
     "prompt_number": 17
    },
    {
     "cell_type": "markdown",
     "metadata": {},
     "source": [
      "So far, looks kinda useless. It'll become more interesting in just a minute, after we introduce 'dictionaries', or as they are affectionately known 'dicts':"
     ]
    },
    {
     "cell_type": "code",
     "collapsed": false,
     "input": [
      "d = {'key_the_first':1000.0, 'key_the_second':'woot!', 10:1 , (10,11):12}"
     ],
     "language": "python",
     "metadata": {},
     "outputs": [],
     "prompt_number": 18
    },
    {
     "cell_type": "markdown",
     "metadata": {},
     "source": [
      "This data structure holds key-value pairs, such that when you refer to one, you can get the other: "
     ]
    },
    {
     "cell_type": "code",
     "collapsed": false,
     "input": [
      "print d['key_the_first']"
     ],
     "language": "python",
     "metadata": {},
     "outputs": [
      {
       "output_type": "stream",
       "stream": "stdout",
       "text": [
        "1000.0\n"
       ]
      }
     ],
     "prompt_number": 19
    },
    {
     "cell_type": "code",
     "collapsed": false,
     "input": [
      "print d[10]"
     ],
     "language": "python",
     "metadata": {},
     "outputs": [
      {
       "output_type": "stream",
       "stream": "stdout",
       "text": [
        "1\n"
       ]
      }
     ],
     "prompt_number": 20
    },
    {
     "cell_type": "markdown",
     "metadata": {},
     "source": [
      "Note that while lists cannot be keys to a dict, tuples can:"
     ]
    },
    {
     "cell_type": "code",
     "collapsed": false,
     "input": [
      "print d[(10,11)]"
     ],
     "language": "python",
     "metadata": {},
     "outputs": [
      {
       "output_type": "stream",
       "stream": "stdout",
       "text": [
        "12\n"
       ]
      }
     ],
     "prompt_number": 21
    },
    {
     "cell_type": "markdown",
     "metadata": {},
     "source": [
      "In CS-speak, a thing such as a dict is sometimes referred to as a hash-table and is considered a very useful thing to have. For example, think what you would have to do in order to count the frequency of appearance of certain words in a big text file."
     ]
    },
    {
     "cell_type": "markdown",
     "metadata": {},
     "source": [
      "## Python uses a few simple control structures\n",
      "\n",
      "As in other languages you might know, there are `if`, `else`, `elif` (*not* `elseif`), `for` and `while` control statements. There are a few interesting idiosyncracies. First of all, if you have something that has several components, you can probably just loop over it, using the `for` loop: "
     ]
    },
    {
     "cell_type": "code",
     "collapsed": false,
     "input": [
      "for x in b:\n",
      "    print x"
     ],
     "language": "python",
     "metadata": {},
     "outputs": [
      {
       "output_type": "stream",
       "stream": "stdout",
       "text": [
        "2\n",
        "2\n",
        "3\n",
        "4\n",
        "5\n"
       ]
      }
     ],
     "prompt_number": 22
    },
    {
     "cell_type": "markdown",
     "metadata": {},
     "source": [
      "Second, you might notice that there's no explicit delimiter to that for loop. How does python know where it started and where it ended? The answer is that the indentation signals that. In contrast to other languages, indentation in Python is not only a stylistic preference, but a syntactical requirement. That is, if you do not indent the contents of a control block, you will get an error: "
     ]
    },
    {
     "cell_type": "code",
     "collapsed": false,
     "input": [
      "for x in b: \n",
      "print x"
     ],
     "language": "python",
     "metadata": {},
     "outputs": [
      {
       "ename": "IndentationError",
       "evalue": "expected an indented block (<ipython-input-23-b651ccce9731>, line 2)",
       "output_type": "pyerr",
       "traceback": [
        "\u001b[0;36m  File \u001b[0;32m\"<ipython-input-23-b651ccce9731>\"\u001b[0;36m, line \u001b[0;32m2\u001b[0m\n\u001b[0;31m    print x\u001b[0m\n\u001b[0m        ^\u001b[0m\n\u001b[0;31mIndentationError\u001b[0m\u001b[0;31m:\u001b[0m expected an indented block\n"
       ]
      }
     ],
     "prompt_number": 23
    },
    {
     "cell_type": "markdown",
     "metadata": {},
     "source": [
      "This level of stickler-ish insistence on such things as where the white-space appears have made people call it a \"bondage and discipline\" language. But maybe that's your thing? \n",
      "\n",
      "Obviously, we can nest several different control structures in each other:"
     ]
    },
    {
     "cell_type": "code",
     "collapsed": false,
     "input": [
      "for lookfor in range(10):\n",
      "    if lookfor in b:\n",
      "        print 'I think we have a %s in b'%lookfor"
     ],
     "language": "python",
     "metadata": {},
     "outputs": [
      {
       "output_type": "stream",
       "stream": "stdout",
       "text": [
        "I think we have a 2 in b\n",
        "I think we have a 3 in b\n",
        "I think we have a 4 in b\n",
        "I think we have a 5 in b\n"
       ]
      }
     ],
     "prompt_number": 24
    },
    {
     "cell_type": "markdown",
     "metadata": {},
     "source": [
      "Also demonstrating:\n",
      "\n",
      "- Use of `range`\n",
      "- Different uses of the builtin `in` \n",
      "- String comprehenrsion "
     ]
    },
    {
     "cell_type": "markdown",
     "metadata": {},
     "source": [
      "## Python gives users control of their namespace\n",
      "\n",
      "The idea here is that apart from very few built-in constructs and types, when you start a python interperter, it knows very little. To allow it to know more, you need to assign variables (which we did above), you need to load things from files (which we'll see later), or you need to import modules that contain more objects, functions, etc. For example, let's import a favorite module of mine, the `os` module"
     ]
    },
    {
     "cell_type": "code",
     "collapsed": false,
     "input": [
      "import os"
     ],
     "language": "python",
     "metadata": {},
     "outputs": [],
     "prompt_number": 25
    },
    {
     "cell_type": "markdown",
     "metadata": {},
     "source": [
      "`import`ing this name into our name-space now makes a lot of other names available through it. Try to type `os.` and tab-completing on that. And some of the names under that have additional names under them. For example: "
     ]
    },
    {
     "cell_type": "code",
     "collapsed": false,
     "input": [
      "curdir = os.path.curdir\n",
      "listdir = os.listdir(curdir)\n",
      "print os.path.join(curdir, listdir[1])"
     ],
     "language": "python",
     "metadata": {},
     "outputs": [
      {
       "output_type": "stream",
       "stream": "stdout",
       "text": [
        "./001-Introduction-Python.ipynb\n"
       ]
      }
     ],
     "prompt_number": 26
    },
    {
     "cell_type": "markdown",
     "metadata": {},
     "source": [
      "- Example: count words in a file.\n",
      "- Read the paradigm file and plot it and what-not\n",
      "- Where do I get help?\n"
     ]
    },
    {
     "cell_type": "markdown",
     "metadata": {},
     "source": [
      "### Some interesting namespaces\n",
      "\n",
      "Let's look at some modules that are particularly useful for neuroimaging stuff. Let's start with `numpy` - a library which implements an array data structure, which resembles Matlab's vector data structures (there it is!):"
     ]
    },
    {
     "cell_type": "code",
     "collapsed": false,
     "input": [
      "import numpy as np\n",
      "arr1 = np.array([1,2,3,4])"
     ],
     "language": "python",
     "metadata": {},
     "outputs": [],
     "prompt_number": 27
    },
    {
     "cell_type": "code",
     "collapsed": false,
     "input": [
      "print arr1 + 1"
     ],
     "language": "python",
     "metadata": {},
     "outputs": [
      {
       "output_type": "stream",
       "stream": "stdout",
       "text": [
        "[2 3 4 5]\n"
       ]
      }
     ],
     "prompt_number": 28
    },
    {
     "cell_type": "code",
     "collapsed": false,
     "input": [
      "print arr1 * 2"
     ],
     "language": "python",
     "metadata": {},
     "outputs": [
      {
       "output_type": "stream",
       "stream": "stdout",
       "text": [
        "[2 4 6 8]\n"
       ]
      }
     ],
     "prompt_number": 29
    },
    {
     "cell_type": "code",
     "collapsed": false,
     "input": [
      "print arr1 + arr1"
     ],
     "language": "python",
     "metadata": {},
     "outputs": [
      {
       "output_type": "stream",
       "stream": "stdout",
       "text": [
        "[2 4 6 8]\n"
       ]
      }
     ],
     "prompt_number": 30
    },
    {
     "cell_type": "markdown",
     "metadata": {},
     "source": [
      "`numpy` arrays can represent data with several dimensions: \n"
     ]
    },
    {
     "cell_type": "code",
     "collapsed": false,
     "input": [
      "arr2 = np.array([[1,0,0,0],[0,1,0,0],[0,0,1,0],[0,0,0,1]])\n",
      "print arr2\n",
      "print arr2.shape\n",
      "print arr2[0,0]\n",
      "print arr2[1,0]\n",
      "print arr2.dtype"
     ],
     "language": "python",
     "metadata": {},
     "outputs": [
      {
       "output_type": "stream",
       "stream": "stdout",
       "text": [
        "[[1 0 0 0]\n",
        " [0 1 0 0]\n",
        " [0 0 1 0]\n",
        " [0 0 0 1]]\n",
        "(4, 4)\n",
        "1\n",
        "0\n",
        "int64\n"
       ]
      }
     ],
     "prompt_number": 31
    },
    {
     "cell_type": "markdown",
     "metadata": {},
     "source": [
      "In contrast to matlab, matrix computations are not implicitly assumed: "
     ]
    },
    {
     "cell_type": "code",
     "collapsed": false,
     "input": [
      "print arr2 * arr1"
     ],
     "language": "python",
     "metadata": {},
     "outputs": [
      {
       "output_type": "stream",
       "stream": "stdout",
       "text": [
        "[[1 0 0 0]\n",
        " [0 2 0 0]\n",
        " [0 0 3 0]\n",
        " [0 0 0 4]]\n"
       ]
      }
     ],
     "prompt_number": 32
    },
    {
     "cell_type": "code",
     "collapsed": false,
     "input": [
      "print np.dot(arr2, arr1)\n",
      "print np.dot(arr2*2, arr1)"
     ],
     "language": "python",
     "metadata": {},
     "outputs": [
      {
       "output_type": "stream",
       "stream": "stdout",
       "text": [
        "[1 2 3 4]\n",
        "[2 4 6 8]\n"
       ]
      }
     ],
     "prompt_number": 33
    },
    {
     "cell_type": "markdown",
     "metadata": {},
     "source": [
      "There are a lot of useful functions in `numpy`, go check them out with `np.` - *tab*. Another useful set of functions exists in a rather large library called `scipy`:"
     ]
    },
    {
     "cell_type": "code",
     "collapsed": false,
     "input": [
      "import scipy"
     ],
     "language": "python",
     "metadata": {},
     "outputs": [],
     "prompt_number": 34
    },
    {
     "cell_type": "code",
     "collapsed": false,
     "input": [
      "scipy?"
     ],
     "language": "python",
     "metadata": {},
     "outputs": [],
     "prompt_number": 35
    },
    {
     "cell_type": "markdown",
     "metadata": {},
     "source": [
      "Notice that because it's rather large, the sub-modules of `scipy` aren't imported automatically and you need to explicitely import them. For example: "
     ]
    },
    {
     "cell_type": "code",
     "collapsed": false,
     "input": [
      "import scipy.stats as stats"
     ],
     "language": "python",
     "metadata": {},
     "outputs": [],
     "prompt_number": 36
    },
    {
     "cell_type": "code",
     "collapsed": false,
     "input": [
      "rv = stats.norm(0, 1)\n",
      "x = np.linspace(-3, 3)\n",
      "pdf = rv.pdf(x)\n",
      "pdf"
     ],
     "language": "python",
     "metadata": {},
     "outputs": [
      {
       "output_type": "pyout",
       "prompt_number": 37,
       "text": [
        "array([ 0.00443185,  0.00635135,  0.00896675,  0.01247075,  0.01708592,\n",
        "        0.02306069,  0.03066159,  0.04016108,  0.05182083,  0.0658706 ,\n",
        "        0.08248352,  0.10174921,  0.12364689,  0.1480211 ,  0.17456307,\n",
        "        0.20280069,  0.2320998 ,  0.26167871,  0.29063661,  0.31799518,\n",
        "        0.34275126,  0.36393672,  0.38068082,  0.39226937,  0.39819528,\n",
        "        0.39819528,  0.39226937,  0.38068082,  0.36393672,  0.34275126,\n",
        "        0.31799518,  0.29063661,  0.26167871,  0.2320998 ,  0.20280069,\n",
        "        0.17456307,  0.1480211 ,  0.12364689,  0.10174921,  0.08248352,\n",
        "        0.0658706 ,  0.05182083,  0.04016108,  0.03066159,  0.02306069,\n",
        "        0.01708592,  0.01247075,  0.00896675,  0.00635135,  0.00443185])"
       ]
      }
     ],
     "prompt_number": 37
    },
    {
     "cell_type": "markdown",
     "metadata": {},
     "source": [
      "At this point, we might need some plotting functions:"
     ]
    },
    {
     "cell_type": "code",
     "collapsed": false,
     "input": [
      "import matplotlib.pyplot as plt"
     ],
     "language": "python",
     "metadata": {},
     "outputs": [],
     "prompt_number": 38
    },
    {
     "cell_type": "code",
     "collapsed": false,
     "input": [
      "plt.plot(pdf)"
     ],
     "language": "python",
     "metadata": {},
     "outputs": [
      {
       "output_type": "pyout",
       "prompt_number": 39,
       "text": [
        "[<matplotlib.lines.Line2D at 0x1071cb510>]"
       ]
      },
      {
       "output_type": "display_data",
       "png": "[encoded data removed]",
       "text": [
        "<matplotlib.figure.Figure at 0x1071a0b10>"
       ]
      }
     ],
     "prompt_number": 39
    },
    {
     "cell_type": "markdown",
     "metadata": {},
     "source": [
      "Note that the notebooks we will be looking at have been initialized in `pylab` mode. That means that upon initializing they automagically import numpy as `np` and pyplot as `plt`. They also import `matplotlib`, `pylab` and `mlab` (All three are part of the [matplotlib](http://matplotlib.org/) graphics library. It also imports all names from numpy and pylab (`from numpy import *`). On the one hand, this goes a little bit against the philosophy that you shouldn't have anything in your namespace that you didn't put there. On the other hand, it's convenient for a lot of the things we do."
     ]
    },
    {
     "cell_type": "markdown",
     "metadata": {},
     "source": [
      "## You can easily define Python functions\n",
      "\n",
      "No need for other files, compilation steps, or anything. Just define it and it's there: \n"
     ]
    },
    {
     "cell_type": "code",
     "collapsed": false,
     "input": [
      "def add_two_numbers(num1, num2):\n",
      "    \"\"\"\n",
      "    This is the function docstring. Ideally it is informative. For example: \n",
      "\n",
      "    Add two numbers to each other. \n",
      "\n",
      "    Parameters\n",
      "    ----------\n",
      "    num1 : int/float\n",
      "       A number\n",
      "    \n",
      "    num2 : int/float\n",
      "       Another number\n",
      "    \n",
      "    Returns\n",
      "    -------\n",
      "    sum_it : the sum of the inputs\n",
      "    \n",
      "    \"\"\"\n",
      "    sum_it = num1 + num2\n",
      "    return sum_it"
     ],
     "language": "python",
     "metadata": {},
     "outputs": [],
     "prompt_number": 40
    },
    {
     "cell_type": "code",
     "collapsed": false,
     "input": [
      "add_two_numbers(1,2)"
     ],
     "language": "python",
     "metadata": {},
     "outputs": [
      {
       "output_type": "pyout",
       "prompt_number": 41,
       "text": [
        "3"
       ]
      }
     ],
     "prompt_number": 41
    },
    {
     "cell_type": "code",
     "collapsed": false,
     "input": [
      "add_two_numbers?"
     ],
     "language": "python",
     "metadata": {},
     "outputs": [],
     "prompt_number": 42
    },
    {
     "cell_type": "markdown",
     "metadata": {},
     "source": [
      "If we have time, let's look at a slightly more interesting example: "
     ]
    },
    {
     "cell_type": "code",
     "collapsed": false,
     "input": [
      "def word_count(url): \n",
      "    \"\"\" \n",
      "    Count word frequencies in the text body of a given url\n",
      "\n",
      "    Parameters \n",
      "    ----------\n",
      "    url : string\n",
      "        The address of a url to be scraped \n",
      "    \n",
      "    Returns\n",
      "    -------\n",
      "    word_dict : dict\n",
      "       Frequency counts of the words \n",
      "\n",
      "    \"\"\"\n",
      "    import urllib\n",
      "    url_get = urllib.urlretrieve(url)\n",
      "    f = file(url_get[0])\n",
      "    txt = f.read()\n",
      "    \n",
      "    start_idx = txt.find('<body>')\n",
      "    end_idx = txt.find('</body>')\n",
      "    \n",
      "    new_txt = txt[start_idx:end_idx]\n",
      "    new_txt = new_txt.split(' ')\n",
      "    \n",
      "    word_dict = {}\n",
      "    for word in new_txt:\n",
      "        # Get rid of all kinds of html crud and the empty character:\n",
      "        if not('>' in word or '<' in word or '=' in word or '-' in word or '&' in word or word == ''): \n",
      "            if word in word_dict.keys():\n",
      "                word_dict[word] += 1\n",
      "            else: \n",
      "                word_dict[word] = 1\n",
      "\n",
      "    vals = np.array(word_dict.values())\n",
      "    keys = np.array(word_dict.keys())\n",
      "    sort_idx = np.argsort(vals)\n",
      "\n",
      "    return (vals[sort_idx][::-1], keys[sort_idx[::-1]])"
     ],
     "language": "python",
     "metadata": {},
     "outputs": [],
     "prompt_number": 3
    },
    {
     "cell_type": "markdown",
     "metadata": {},
     "source": [
      "Let's apply this to a paper about fMRI:"
     ]
    },
    {
     "cell_type": "code",
     "collapsed": false,
     "input": [
      "word_arr = word_count('http://www.journalofvision.org/content/11/5/12.full?')"
     ],
     "language": "python",
     "metadata": {},
     "outputs": [],
     "prompt_number": 4
    },
    {
     "cell_type": "markdown",
     "metadata": {},
     "source": [
      "For simplicity, let's examine the top 50 results:"
     ]
    },
    {
     "cell_type": "code",
     "collapsed": false,
     "input": [
      "to_plot_vals = word_arr[0][:50]\n",
      "to_plot_words = word_arr[1][:50]\n",
      "print to_plot_vals\n",
      "print to_plot_words"
     ],
     "language": "python",
     "metadata": {},
     "outputs": [
      {
       "output_type": "stream",
       "stream": "stdout",
       "text": [
        "[557 492 490 336 213 209 198 149 148 134 134 120 105  91  81  77  77  77\n",
        "  76  74  71  62  62  54  53  47  46  46  42  42  41  39  38  37  35  34\n",
        "  34  34  33  33  33  32  31  30  30  30  29  29  28  27]\n",
        "['the' 'in' 'of' '\\n' 'to' 'and' 'a' 'is' 'that' 'text\"\\n' 'reference'\n",
        " 'visual' 'fMRI' 'with' 'V1' 'response' 'by' 'attention' 'for' 'be' 'BOLD'\n",
        " 'human' 'signal' 'responses' 'on' 'not' 'are' 'et' 'stimulus' 'neurons'\n",
        " 'as' 'effects' 'from' 'This' 'electrophysiological' 'signals' 'between'\n",
        " 'cortex' 'an' 'or' 'macaque' 'neuronal' 'effect' 'but' 'The' 'spatial'\n",
        " 'this' 'time' 'primary' 'stimuli']\n"
       ]
      }
     ],
     "prompt_number": 5
    },
    {
     "cell_type": "markdown",
     "metadata": {},
     "source": [
      "I think that it's fair to say that the first 11 words are not very interesting, so let's ignore those and plot the others, [wordle](http://www.wordle.net/)-style"
     ]
    },
    {
     "cell_type": "code",
     "collapsed": false,
     "input": [
      "fig, ax = plt.subplots(1)\n",
      "for word_idx in range(len(to_plot_words[11:])):\n",
      "    ax.text(np.random.rand(), np.random.rand(), to_plot_words[11:][word_idx], fontsize=to_plot_vals[11:][word_idx])\n",
      "ax.set_axis_off()\n"
     ],
     "language": "python",
     "metadata": {},
     "outputs": [
      {
       "output_type": "display_data",
       "png": "[encoded data removed]",
       "text": [
        "<matplotlib.figure.Figure at 0x105d17c90>"
       ]
      }
     ],
     "prompt_number": 6
    },
    {
     "cell_type": "markdown",
     "metadata": {},
     "source": [
      "# Summary\n",
      "\n",
      "Python is an object-oriented language with powerful libraries for representation of numerical objects, and for scientific analysis and visualization. Using the ipython notebook, we can interactively analyze and visualize data in an iterative fashion. We can now move on to examine some more interesting data. Namely, we will start looking at some MRI data, using neuroimaging-specific libraries.   "
     ]
    },
    {
     "cell_type": "markdown",
     "metadata": {},
     "source": [
      "**Final comment:** If you are interested in combining Matlab-based and Python-based workflows with the notebook, you should check out the [python-matlab-bridge](https://github.com/arokem/python-matlab-bridge). It is in preliminary phases, but can already do quite a bit. "
     ]
    },
    {
     "cell_type": "code",
     "collapsed": false,
     "input": [],
     "language": "python",
     "metadata": {},
     "outputs": []
    }
   ],
   "metadata": {}
  }
 ]
}