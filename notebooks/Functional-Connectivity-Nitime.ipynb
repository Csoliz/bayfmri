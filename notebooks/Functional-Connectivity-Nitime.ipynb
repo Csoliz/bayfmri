{
 "metadata": {
  "name": "Functional-Connectivity-Nitime"
 },
 "nbformat": 3,
 "nbformat_minor": 0,
 "worksheets": [
  {
   "cells": [
    {
     "cell_type": "markdown",
     "metadata": {},
     "source": [
      "#Seed correlation/coherence with nitime\n",
      "\n",
      "Seed-based analysis is the analysis of a bivariate measure (such as correlation or coherence) between one time-series (termed the 'seed') and many other\n",
      "time-series (termed the 'targets'). This is a rather typical strategy in the analysis of fMRI data where one might look for all the areas of the brain that exhibit high level of connectivity to a particular region of interest."
     ]
    },
    {
     "cell_type": "markdown",
     "metadata": {},
     "source": [
      "We start by importing the needed modules. First modules from the standard lib and from 3rd parties:"
     ]
    },
    {
     "cell_type": "code",
     "collapsed": false,
     "input": [
      "import os\n",
      "\n",
      "import numpy as np\n",
      "import matplotlib.pyplot as plt\n",
      "from nibabel import load\n",
      "\n",
      "import nitime\n",
      "import nitime.analysis as nta\n",
      "import nitime.fmri.io as io"
     ],
     "language": "python",
     "metadata": {},
     "outputs": [],
     "prompt_number": 19
    },
    {
     "cell_type": "markdown",
     "metadata": {},
     "source": [
      "We define the TR of the analysis and the frequency band of interest:"
     ]
    },
    {
     "cell_type": "code",
     "collapsed": false,
     "input": [
      "TR = 1.35\n",
      "f_lb = 0.02\n",
      "f_ub = 0.15"
     ],
     "language": "python",
     "metadata": {},
     "outputs": [],
     "prompt_number": 2
    },
    {
     "cell_type": "markdown",
     "metadata": {},
     "source": [
      "An fMRI data file with some actual fMRI data is shipped as part of the distribution, the following line will find the path to this data on the\n",
      "specific setup:"
     ]
    },
    {
     "cell_type": "code",
     "collapsed": false,
     "input": [
      "data_path = test_dir_path = os.path.join(nitime.__path__[0], 'data')\n",
      "fmri_file = os.path.join(data_path, 'fmri1.nii.gz')"
     ],
     "language": "python",
     "metadata": {},
     "outputs": [],
     "prompt_number": 3
    },
    {
     "cell_type": "markdown",
     "metadata": {},
     "source": [
      "Read in the data, using nibabel:"
     ]
    },
    {
     "cell_type": "code",
     "collapsed": false,
     "input": [
      "fmri_data = load(fmri_file)"
     ],
     "language": "python",
     "metadata": {},
     "outputs": [],
     "prompt_number": 4
    },
    {
     "cell_type": "markdown",
     "metadata": {},
     "source": [
      "Notice that 'fmri_data' is not an array, but rather a NiftiImage\n",
      "object. Nibabel cleverly delays the actual allocation of memory and reading\n",
      "from file as long as possible. In this case, we only want information that is\n",
      "available through the header of the nifti file, namely the dimensions of the\n",
      "data.\n",
      "\n",
      "We extract only the spatial dimensions of the data, excluding the last\n",
      "dimension which is the time-dimension and generate a coords list:"
     ]
    },
    {
     "cell_type": "code",
     "collapsed": false,
     "input": [
      "volume_shape = fmri_data.shape[:-1]"
     ],
     "language": "python",
     "metadata": {},
     "outputs": [],
     "prompt_number": 5
    },
    {
     "cell_type": "code",
     "collapsed": false,
     "input": [
      "coords = list(np.ndindex(*volume_shape))"
     ],
     "language": "python",
     "metadata": {},
     "outputs": [],
     "prompt_number": 6
    },
    {
     "cell_type": "markdown",
     "metadata": {},
     "source": [
      "Now we endeavour to choose a seed voxels:"
     ]
    },
    {
     "cell_type": "code",
     "collapsed": false,
     "input": [
      "n_seeds = 3\n",
      "\n",
      "# Choose n_seeds random voxels to be the seed voxels\n",
      "seeds = np.random.randint(0, len(coords), n_seeds)\n",
      "coords_seeds = np.array(coords)[seeds].T\n"
     ],
     "language": "python",
     "metadata": {},
     "outputs": [],
     "prompt_number": 7
    },
    {
     "cell_type": "markdown",
     "metadata": {},
     "source": [
      "The entire volume is chosen to be the target:"
     ]
    },
    {
     "cell_type": "code",
     "collapsed": false,
     "input": [
      "coords_target = np.array(coords).T"
     ],
     "language": "python",
     "metadata": {},
     "outputs": [],
     "prompt_number": 8
    },
    {
     "cell_type": "markdown",
     "metadata": {},
     "source": [
      "# Initialize time-series objects\n",
      "We use nitime.fmri.io in order to generate TimeSeries objects from spatial coordinates in the data file:"
     ]
    },
    {
     "cell_type": "code",
     "collapsed": false,
     "input": [
      "# Make the seed time series:\n",
      "time_series_seed = io.time_series_from_file(fmri_file,\n",
      "                                coords_seeds,\n",
      "                                TR=TR,\n",
      "                                normalize='percent',\n",
      "                                filter=dict(lb=f_lb,\n",
      "                                            ub=f_ub,\n",
      "                                            method='boxcar'))\n",
      "\n",
      "# Make the target time series:\n",
      "time_series_target = io.time_series_from_file(fmri_file,\n",
      "                                          coords_target,\n",
      "                                          TR=TR,\n",
      "                                          normalize='percent',\n",
      "                                          filter=dict(lb=f_lb,\n",
      "                                                      ub=f_ub,\n",
      "                                                    method='boxcar'))"
     ],
     "language": "python",
     "metadata": {},
     "outputs": [],
     "prompt_number": 10
    },
    {
     "cell_type": "markdown",
     "metadata": {},
     "source": [
      "# Correlation\n",
      "\n",
      "The SeedCorrelationAnalyzer receives as input seed and target time-series:"
     ]
    },
    {
     "cell_type": "code",
     "collapsed": false,
     "input": [
      "B = nta.SeedCorrelationAnalyzer(time_series_seed, time_series_target)"
     ],
     "language": "python",
     "metadata": {},
     "outputs": [],
     "prompt_number": 11
    },
    {
     "cell_type": "markdown",
     "metadata": {},
     "source": [
      "# Coherence\n",
      "\n",
      "The SeedCoherenceAnalyzer receives as input both of these TimeSeries and calculates the coherence of each of the channels in the seed TimeSeries to\n",
      "*all* the channels in the target TimeSeries. Here we initialize it with these and with a method dict, which specifies the parameters of the spectral analysis used for the coherence estimation:"
     ]
    },
    {
     "cell_type": "code",
     "collapsed": false,
     "input": [
      "A = nta.SeedCoherenceAnalyzer(time_series_seed, time_series_target,\n",
      "                            method=dict(NFFT=20))"
     ],
     "language": "python",
     "metadata": {},
     "outputs": [],
     "prompt_number": 12
    },
    {
     "cell_type": "markdown",
     "metadata": {},
     "source": [
      "For the coherence, we are only interested in the physiologically relevant frequency band:"
     ]
    },
    {
     "cell_type": "code",
     "collapsed": false,
     "input": [
      "freq_idx = np.where((A.frequencies > f_lb) * (A.frequencies < f_ub))[0]"
     ],
     "language": "python",
     "metadata": {},
     "outputs": [],
     "prompt_number": 13
    },
    {
     "cell_type": "markdown",
     "metadata": {},
     "source": [
      "The results in both analyzer objects are arrays of dimensions: (number of seeds x number of targets). For the coherence, there is an additional last dimension of: number of frequency bands, which we will average over.  For the visualization, we extract the coherence and correlation values for each one of the seeds separately:"
     ]
    },
    {
     "cell_type": "code",
     "collapsed": false,
     "input": [
      "cor = []\n",
      "coh = []\n",
      "\n",
      "for this_seed in range(n_seeds):\n",
      "    # Extract the coherence and average across these frequency bands:\n",
      "    coh.append(np.mean(A.coherence[this_seed][:, freq_idx], -1))  # Averaging on the\n",
      "                                                                 # last dimension\n",
      "\n",
      "    cor.append(B.corrcoef[this_seed])  # No need to do any additional\n",
      "                                       # computation\n"
     ],
     "language": "python",
     "metadata": {},
     "outputs": [],
     "prompt_number": 14
    },
    {
     "cell_type": "markdown",
     "metadata": {},
     "source": [
      "We then put the coherence/correlation values back into arrays that have the original shape of the volume from which the data was extracted:"
     ]
    },
    {
     "cell_type": "code",
     "collapsed": false,
     "input": [
      "#For numpy fancy indexing into volume arrays:\n",
      "coords_indices = list(coords_target)\n",
      "\n",
      "vol_coh = []\n",
      "vol_cor = []\n",
      "for this_vol in range(n_seeds):\n",
      "    vol_coh.append(np.empty(volume_shape))\n",
      "    vol_coh[-1][coords_indices] = coh[this_vol]\n",
      "    vol_cor.append(np.empty(volume_shape))\n",
      "    vol_cor[-1][coords_indices] = cor[this_vol]\n"
     ],
     "language": "python",
     "metadata": {},
     "outputs": [],
     "prompt_number": 15
    },
    {
     "cell_type": "code",
     "collapsed": false,
     "input": [
      "#Choose a random slice to display:\n",
      "random_slice = np.random.randint(0, volume_shape[-1], 1)\n",
      "\n",
      "fig01 = plt.figure()\n",
      "fig01.set_size_inches([8,8])\n",
      "fig02 = plt.figure()\n",
      "fig02.set_size_inches([8,8])\n",
      "\n",
      "ax_coh = []\n",
      "ax_cor = []\n",
      "for this_vox in range(n_seeds):\n",
      "    ax_coh.append(fig01.add_subplot(1, n_seeds, this_vox + 1))\n",
      "    ax_coh[-1].matshow(vol_coh[this_vox][:, :, random_slice].squeeze())\n",
      "    ax_coh[-1].set_title('Seed coords: %s' % coords_seeds[:, this_vox])\n",
      "\n",
      "    ax_cor.append(fig02.add_subplot(1, n_seeds, this_vox + 1))\n",
      "    ax_cor[-1].matshow(vol_cor[this_vox][:, :, random_slice].squeeze())\n",
      "    ax_cor[-1].set_title('Seed coords: %s' % coords_seeds[:, this_vox])\n",
      "\n",
      "for x in zip(['Coherence', 'Correlation'], [fig01, fig02]):\n",
      "    suptit = '%s between all the voxels in slice: ' % x[0]\n",
      "    suptit += '%i and seed voxels' % random_slice\n",
      "    x[1].suptitle(suptit)\n"
     ],
     "language": "python",
     "metadata": {},
     "outputs": [
      {
       "output_type": "display_data",
       "png": "[encoded data removed]",
       "text": [
        "<matplotlib.figure.Figure at 0x1069353d0>"
       ]
      },
      {
       "output_type": "display_data",
       "png": "[encoded data removed]",
       "text": [
        "<matplotlib.figure.Figure at 0x106948f90>"
       ]
      }
     ],
     "prompt_number": 18
    },
    {
     "cell_type": "code",
     "collapsed": false,
     "input": [],
     "language": "python",
     "metadata": {},
     "outputs": []
    }
   ],
   "metadata": {}
  }
 ]
}